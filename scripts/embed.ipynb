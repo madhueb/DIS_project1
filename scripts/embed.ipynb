{
 "cells": [
  {
   "cell_type": "code",
   "execution_count": null,
   "metadata": {
    "colab": {
     "base_uri": "https://localhost:8080/",
     "height": 85,
     "referenced_widgets": [
      "7a05000f58f24c619b177c1ffe1291a6",
      "0a2b3473acf04f2f8b3e7cfa9e21fcea",
      "f8b6f0cf7d8645d39b250896ae3e004d",
      "06cf7128fc204878af6902d335df2e05",
      "c6c540de54184fc2a851395a2c89b08b"
     ]
    },
    "id": "q1K6czWcUqtm",
    "outputId": "caf3930c-1b89-4e37-c6b7-43a7fe686275"
   },
   "outputs": [
    {
     "data": {
      "application/vnd.jupyter.widget-view+json": {
       "model_id": "7a05000f58f24c619b177c1ffe1291a6",
       "version_major": 2,
       "version_minor": 0
      },
      "text/plain": [
       "VBox(children=(HTML(value='<center> <img\\nsrc=https://www.kaggle.com/static/images/site-logo.png\\nalt=\\'Kaggle…"
      ]
     },
     "metadata": {},
     "output_type": "display_data"
    },
    {
     "name": "stdout",
     "output_type": "stream",
     "text": [
      "Kaggle credentials set.\n",
      "Kaggle credentials successfully validated.\n"
     ]
    }
   ],
   "source": [
    "# IMPORTANT: SOME KAGGLE DATA SOURCES ARE PRIVATE\n",
    "# RUN THIS CELL IN ORDER TO IMPORT YOUR KAGGLE DATA SOURCES.\n",
    "import kagglehub\n",
    "kagglehub.login()\n"
   ]
  },
  {
   "cell_type": "code",
   "execution_count": null,
   "metadata": {
    "colab": {
     "base_uri": "https://localhost:8080/"
    },
    "id": "-dyLTezEd-pb",
    "outputId": "5fe3b3b0-3491-43f5-a771-e141bccb1c72"
   },
   "outputs": [
    {
     "name": "stdout",
     "output_type": "stream",
     "text": [
      "Mounted at /content/drive\n"
     ]
    }
   ],
   "source": [
    "# connect to drive\n",
    "from google.colab import drive\n",
    "drive.mount('/content/drive')"
   ]
  },
  {
   "cell_type": "code",
   "execution_count": null,
   "metadata": {
    "colab": {
     "base_uri": "https://localhost:8080/"
    },
    "id": "SBv_rpGmUqtr",
    "outputId": "7ea0b425-dc9b-4129-c0ed-e2d1277da0fb"
   },
   "outputs": [
    {
     "name": "stdout",
     "output_type": "stream",
     "text": [
      "Downloading from https://www.kaggle.com/api/v1/datasets/download/mansarip/dis1-tokens?dataset_version_number=1...\n"
     ]
    },
    {
     "name": "stderr",
     "output_type": "stream",
     "text": [
      "100%|██████████| 2.67G/2.67G [00:18<00:00, 157MB/s]"
     ]
    },
    {
     "name": "stdout",
     "output_type": "stream",
     "text": [
      "Extracting files...\n"
     ]
    },
    {
     "name": "stderr",
     "output_type": "stream",
     "text": [
      "\n"
     ]
    },
    {
     "name": "stdout",
     "output_type": "stream",
     "text": [
      "Data source import complete.\n"
     ]
    }
   ],
   "source": [
    "# IMPORTANT: RUN THIS CELL IN ORDER TO IMPORT YOUR KAGGLE DATA SOURCES,\n",
    "# THEN FEEL FREE TO DELETE THIS CELL.\n",
    "# NOTE: THIS NOTEBOOK ENVIRONMENT DIFFERS FROM KAGGLE'S PYTHON\n",
    "# ENVIRONMENT SO THERE MAY BE MISSING LIBRARIES USED BY YOUR\n",
    "# NOTEBOOK.\n",
    "\n",
    "mansarip_dis1_tokens_path = kagglehub.dataset_download('mansarip/dis1-tokens')\n",
    "\n",
    "print('Data source import complete.')\n"
   ]
  },
  {
   "cell_type": "code",
   "execution_count": null,
   "metadata": {
    "colab": {
     "base_uri": "https://localhost:8080/",
     "height": 35
    },
    "id": "6aonTw6PanZN",
    "outputId": "3853ae20-ccdb-4b33-ddfc-e47ba0df9910"
   },
   "outputs": [
    {
     "data": {
      "application/vnd.google.colaboratory.intrinsic+json": {
       "type": "string"
      },
      "text/plain": [
       "'/root/.cache/kagglehub/datasets/mansarip/dis1-tokens/versions/1'"
      ]
     },
     "execution_count": 4,
     "metadata": {},
     "output_type": "execute_result"
    }
   ],
   "source": [
    "mansarip_dis1_tokens_path"
   ]
  },
  {
   "cell_type": "code",
   "execution_count": null,
   "metadata": {
    "id": "asWlY-8NUqts"
   },
   "outputs": [],
   "source": [
    "# import argparse\n",
    "# \n",
    "# \n",
    "# import pickle\n",
    "# \n",
    "# import torch\n",
    "# from transformers import AutoTokenizer, AutoModel\n",
    "# from tqdm import tqdm\n",
    "# \n",
    "# from torch.utils.data import Dataset\n",
    "# \n",
    "# from config.config import CONFIG\n",
    "# \n",
    "# class DPRDataset(Dataset):\n",
    "# \n",
    "#     def __init__(self, q_id, lang, tokens):\n",
    "#         self.q_id = []\n",
    "#         self.lang = []\n",
    "#         self.tokens = []\n",
    "#         for i, chunks in enumerate(tqdm(tokens, desc=\"Dataset...\")):\n",
    "#             for j in range(len(chunks['input_ids'])):\n",
    "#                 self.q_id.append(q_id[i])\n",
    "#                 self.lang.append(lang[i])\n",
    "#                 chunk_dict = {}\n",
    "#                 for k, v in chunks.items():\n",
    "#                     chunk_dict[k] = v[j]\n",
    "#                 self.tokens.append(chunk_dict)\n",
    "# \n",
    "#     def __getitem__(self, idx):\n",
    "#         return {\n",
    "#             \"q_id\": self.q_id[idx],\n",
    "#             \"lang\": self.lang[idx],\n",
    "#             \"tokens\": self.tokens[idx]\n",
    "#         }\n",
    "# \n",
    "#     def __len__(self):\n",
    "#         return len(self.q_id)\n",
    "# \n",
    "#     def collate_fn(self, batch):\n",
    "#         return_dict = {}\n",
    "#         q_ids = [sample[\"q_id\"] for sample in batch]\n",
    "#         langs = [sample[\"lang\"] for sample in batch]\n",
    "#         tokens = {k: [sample[\"tokens\"][k] for sample in batch] for k in batch[0][\"tokens\"].keys()}\n",
    "#         tokens = {k: torch.stack(v) for k, v in tokens.items()}\n",
    "# \n",
    "#         return_dict[\"q_id\"] = q_ids\n",
    "#         return_dict[\"lang\"] = langs\n",
    "#         return_dict[\"tokens\"] = tokens\n",
    "# \n",
    "#         return return_dict\n",
    "# \n",
    "# \n",
    "# def pooling(hidden_states, attention_mask):\n",
    "#     input_mask_expanded = attention_mask.unsqueeze(-1).expand(hidden_states.size()).float()\n",
    "#     sum_embeddings = torch.sum(hidden_states * input_mask_expanded, 1)\n",
    "#     sum_mask = input_mask_expanded.sum(1)\n",
    "#     sum_mask = torch.clamp(sum_mask, min=1e-9)\n",
    "#     mean_embeddings = sum_embeddings / sum_mask\n",
    "#     return mean_embeddings\n",
    "# \n",
    "# def embed(tokens_path, output_path, split_id) -> None:\n",
    "# \n",
    "# \n",
    "#     with open(f\"{tokens_path}/tokenized_corpus_{split_id}.pkl\", \"rb\") as f:\n",
    "#         corpus_i = pickle.load(f)\n",
    "#     docids_i, langs_i, tokenized_all_chunks_i = corpus_i\n",
    "#     # Build dataloader\n",
    "#     dataset = DPRDataset(docids_i, langs_i, tokenized_all_chunks_i)\n",
    "#     dataloader = torch.utils.data.DataLoader(dataset, batch_size=256, collate_fn=dataset.collate_fn, shuffle=False, num_workers=4)\n",
    "# \n",
    "#     model = AutoModel.from_pretrained(\"microsoft/mdeberta-v3-base\").to(\"cuda\" if torch.cuda.is_available() else \"cpu\")\n",
    "# \n",
    "#     docids_i = []\n",
    "#     langs_i = []\n",
    "#     embed_all_chunks_i = []\n",
    "#     with torch.no_grad():\n",
    "#         for batch in tqdm(dataloader, desc=\"Embedding...\"):\n",
    "#             inputs = {k: v.to(model.device) for k, v in batch[\"tokens\"].items()}\n",
    "#             outputs = model(**inputs, return_dict=True)\n",
    "#             if CONFIG['use_CLS']:\n",
    "#                 outputs = outputs['last_hidden_state'][:, 0, :].cpu().numpy()\n",
    "#             else:\n",
    "#                 outputs = pooling(outputs['last_hidden_state'], inputs['attention_mask']).cpu().numpy()\n",
    "#             docids_i += batch[\"q_id\"]\n",
    "#             langs_i += batch[\"lang\"]\n",
    "#             embed_all_chunks_i.append(outputs)\n",
    "# \n",
    "#     embed_all_chunks_i = (docids_i, langs_i, embed_all_chunks_i)\n",
    "#     with open(f\"{output_path}/embed_all_chunks_{split_id}.pkl\", \"wb\") as f:\n",
    "#         pickle.dump(embed_all_chunks_i, f)\n",
    "# \n"
   ]
  },
  {
   "metadata": {},
   "cell_type": "code",
   "outputs": [],
   "execution_count": null,
   "source": [
    "import argparse\n",
    "\n",
    "\n",
    "import pickle\n",
    "\n",
    "import torch\n",
    "from transformers import AutoTokenizer, AutoModel\n",
    "from tqdm import tqdm\n",
    "\n",
    "from torch.utils.data import Dataset\n",
    "\n",
    "from config.config import CONFIG\n",
    "\n",
    "print(CONFIG['use_CLS'])\n",
    "\n",
    "def pooling(hidden_states, attention_mask):\n",
    "    input_mask_expanded = attention_mask.unsqueeze(-1).expand(hidden_states.size()).float()\n",
    "    sum_embeddings = torch.sum(hidden_states * input_mask_expanded, 1)\n",
    "    sum_mask = input_mask_expanded.sum(1)\n",
    "    sum_mask = torch.clamp(sum_mask, min=1e-9)\n",
    "    mean_embeddings = sum_embeddings / sum_mask\n",
    "    return mean_embeddings\n",
    "\n",
    "def embed(tokens_path, output_path, split_id) -> None:\n",
    "\n",
    "    with open(f\"{tokens_path}/tokenized_corpus_{split_id}.pkl\", \"rb\") as f:\n",
    "        corpus_i = pickle.load(f)\n",
    "    docids_i, langs_i, tokenized_all_chunks_i = corpus_i\n",
    "    # Build dataloader\n",
    "\n",
    "    model = AutoModel.from_pretrained(\"microsoft/mdeberta-v3-base\").to(\"cuda\" if torch.cuda.is_available() else \"cpu\")\n",
    "\n",
    "    \n",
    "    embed_all_chunks_i = []\n",
    "    embed_all_chunks_i_each = []\n",
    "    with torch.no_grad():\n",
    "        for tokens in tqdm(tokenized_all_chunks_i, desc=\"Embedding...\"):\n",
    "            l = len(tokens['input_ids'])\n",
    "            if l > CONFIG['max_length']:\n",
    "                inputs_first = tokens[:l - l % CONFIG['max_length']]\n",
    "                \n",
    "                inputs_first = torch.tensor(inputs_first).to(CONFIG['device'])\n",
    "                inputs_first = inputs_first.reshape((l - l % CONFIG['max_length']) // CONFIG['max_length'], CONFIG['max_length'])\n",
    "                \n",
    "                outputs_first = model(input_ids=inputs_first, return_dict=True)\n",
    "                if CONFIG['use_CLS']:\n",
    "                    outputs_first = outputs_first['last_hidden_state'][:, 0, :]\n",
    "                else:\n",
    "                    # outputs = pooling(outputs['last_hidden_state'], inputs['attention_mask']).cpu().numpy()\n",
    "                    outputs_first = pooling(outputs_first['last_hidden_state'], torch.ones_like(inputs_first))\n",
    "                if l % CONFIG['max_length'] == 0:\n",
    "                    outputs = outputs_first\n",
    "                else:\n",
    "                    inputs_last = tokens[l - l % CONFIG['max_length']:]\n",
    "                \n",
    "                    inputs_last = torch.tensor(inputs_last).to(CONFIG['device'])\n",
    "                    inputs_last = inputs_last.reshape(1, -1)\n",
    "                    \n",
    "                    outputs_last = model(input_ids=inputs_last, return_dict=True)\n",
    "                    if CONFIG['use_CLS']:\n",
    "                        outputs_last = outputs_last['last_hidden_state'][:, 0, :]\n",
    "                    else:\n",
    "                        outputs_last = pooling(outputs_last['last_hidden_state'], torch.ones_like(inputs_last))\n",
    "                    outputs = torch.cat((outputs_first, outputs_last), 0)\n",
    "                    \n",
    "                embed_all_chunks_i.append(outputs.mean(0).cpu().numpy())\n",
    "                embed_all_chunks_i_each.append(outputs.cpu().numpy())\n",
    "            else:\n",
    "                inputs = torch.tensor(tokens['input_ids']).to(CONFIG['device'])\n",
    "                inputs = inputs.reshape(1, -1)\n",
    "                \n",
    "                outputs = model(input_ids=inputs, return_dict=True)\n",
    "                if CONFIG['use_CLS']:\n",
    "                    outputs = outputs['last_hidden_state'][:, 0, :]\n",
    "                else:\n",
    "                    outputs = pooling(outputs['last_hidden_state'], torch.ones_like(inputs))\n",
    "                embed_all_chunks_i.append(outputs.mean(0).cpu().numpy())\n",
    "                embed_all_chunks_i_each.append(outputs.cpu().numpy())\n",
    "                \n",
    "\n",
    "    embed_all_chunks_i = (docids_i, langs_i, embed_all_chunks_i)\n",
    "    with open(f\"{output_path}/embed_all_chunks_new_{split_id}.pkl\", \"wb\") as f:\n",
    "        pickle.dump(embed_all_chunks_i, f)\n",
    "        \n",
    "    embed_all_chunks_i_each = (docids_i, langs_i, embed_all_chunks_i_each)\n",
    "    with open(f\"{output_path}/embed_all_chunks_each_new_{split_id}.pkl\", \"wb\") as f:\n",
    "        pickle.dump(embed_all_chunks_i_each, f)\n"
   ]
  },
  {
   "cell_type": "code",
   "execution_count": null,
   "metadata": {
    "colab": {
     "base_uri": "https://localhost:8080/",
     "height": 244,
     "referenced_widgets": [
      "8b2986856b97480c9e25130fd0c765cc",
      "08c79665ba2544138266758fdd63e49d",
      "9b4545009549467abeacf93d9f3fb597",
      "4f6e9396ecf8401bbdf6c58a68831883",
      "460f1c1ec69341b7a9b2c86dbd7715c6",
      "f50c165cf496464f819696e3c7c884d5",
      "e8cae96a71004504a805007b85ed1744",
      "82827f2d0140448aa02b943f889a3b3d",
      "c4d0b5de8dc4468684c7f8746fefd448",
      "19d7d30a09b84db4a28ecacb6ff74961",
      "eaf2a00b24ef4e95b53d4f9e4da8e047",
      "363b819b7ac3490a8306f3edba4fc14e",
      "43a57c9572d24521a5a178c78727f79f",
      "efba3b92a365455b94e54e1a336828c5",
      "8b562ec723494facb20fa31696d65d29",
      "064040aee9ff4f8d8a86930830ffe58c",
      "80fd04fe438b43a38670dc72adf0e2bb",
      "5d8c143303de4002b2e9e77120c586b6",
      "c08cb364adcf4170a195eeb2a35ed308",
      "b423fe6de07748eb95a55d010e3efa91",
      "63af8288a2f54a62863816174bbb387f",
      "0a2f30de3b694daeb3fb3fca03f59500"
     ]
    },
    "id": "BS_EDg1iUqtu",
    "outputId": "1622a2cc-47f9-457b-f932-ec8cbe7cdd8b"
   },
   "outputs": [
    {
     "name": "stderr",
     "output_type": "stream",
     "text": [
      "Dataset...: 100%|██████████| 22336/22336 [00:06<00:00, 3345.92it/s]\n",
      "/usr/local/lib/python3.10/dist-packages/huggingface_hub/utils/_token.py:89: UserWarning: \n",
      "The secret `HF_TOKEN` does not exist in your Colab secrets.\n",
      "To authenticate with the Hugging Face Hub, create a token in your settings tab (https://huggingface.co/settings/tokens), set it as secret in your Google Colab and restart your session.\n",
      "You will be able to reuse this secret in all of your notebooks.\n",
      "Please note that authentication is recommended but still optional to access public models or datasets.\n",
      "  warnings.warn(\n"
     ]
    },
    {
     "data": {
      "application/vnd.jupyter.widget-view+json": {
       "model_id": "8b2986856b97480c9e25130fd0c765cc",
       "version_major": 2,
       "version_minor": 0
      },
      "text/plain": [
       "config.json:   0%|          | 0.00/579 [00:00<?, ?B/s]"
      ]
     },
     "metadata": {},
     "output_type": "display_data"
    },
    {
     "data": {
      "application/vnd.jupyter.widget-view+json": {
       "model_id": "363b819b7ac3490a8306f3edba4fc14e",
       "version_major": 2,
       "version_minor": 0
      },
      "text/plain": [
       "pytorch_model.bin:   0%|          | 0.00/1.33G [00:00<?, ?B/s]"
      ]
     },
     "metadata": {},
     "output_type": "display_data"
    },
    {
     "name": "stderr",
     "output_type": "stream",
     "text": [
      "Embedding...: 100%|██████████| 1989/1989 [1:19:12<00:00,  2.39s/it]\n"
     ]
    }
   ],
   "source": [
    "tokens = mansarip_dis1_tokens_path\n",
    "# save to drive\n",
    "output = '/content/drive/MyDrive'\n",
    "split_ids = [1, 12, 4, 5]\n",
    "# split_ids = [2, 11, 6, 7]\n",
    "# split_ids = [3, 10, 8, 9]\n",
    "for split_id in split_ids:\n",
    "    embed(tokens, output, split_id)\n"
   ]
  }
 ],
 "metadata": {
  "accelerator": "GPU",
  "colab": {
   "gpuType": "A100",
   "provenance": []
  },
  "kaggle": {
   "accelerator": "nvidiaTeslaT4",
   "dataSources": [
    {
     "datasetId": 5972305,
     "sourceId": 9754187,
     "sourceType": "datasetVersion"
    }
   ],
   "dockerImageVersionId": 30787,
   "isGpuEnabled": true,
   "isInternetEnabled": true,
   "language": "python",
   "sourceType": "notebook"
  },
  "kernelspec": {
   "display_name": "Python 3",
   "name": "python3"
  },
  "language_info": {
   "codemirror_mode": {
    "name": "ipython",
    "version": 3
   },
   "file_extension": ".py",
   "mimetype": "text/x-python",
   "name": "python",
   "nbconvert_exporter": "python",
   "pygments_lexer": "ipython3",
   "version": "3.10.14"
  },
  "widgets": {
   "application/vnd.jupyter.widget-state+json": {
    "064040aee9ff4f8d8a86930830ffe58c": {
     "model_module": "@jupyter-widgets/base",
     "model_module_version": "1.2.0",
     "model_name": "LayoutModel",
     "state": {
      "_model_module": "@jupyter-widgets/base",
      "_model_module_version": "1.2.0",
      "_model_name": "LayoutModel",
      "_view_count": null,
      "_view_module": "@jupyter-widgets/base",
      "_view_module_version": "1.2.0",
      "_view_name": "LayoutView",
      "align_content": null,
      "align_items": null,
      "align_self": null,
      "border": null,
      "bottom": null,
      "display": null,
      "flex": null,
      "flex_flow": null,
      "grid_area": null,
      "grid_auto_columns": null,
      "grid_auto_flow": null,
      "grid_auto_rows": null,
      "grid_column": null,
      "grid_gap": null,
      "grid_row": null,
      "grid_template_areas": null,
      "grid_template_columns": null,
      "grid_template_rows": null,
      "height": null,
      "justify_content": null,
      "justify_items": null,
      "left": null,
      "margin": null,
      "max_height": null,
      "max_width": null,
      "min_height": null,
      "min_width": null,
      "object_fit": null,
      "object_position": null,
      "order": null,
      "overflow": null,
      "overflow_x": null,
      "overflow_y": null,
      "padding": null,
      "right": null,
      "top": null,
      "visibility": null,
      "width": null
     }
    },
    "06cf7128fc204878af6902d335df2e05": {
     "model_module": "@jupyter-widgets/base",
     "model_module_version": "1.2.0",
     "model_name": "LayoutModel",
     "state": {
      "_model_module": "@jupyter-widgets/base",
      "_model_module_version": "1.2.0",
      "_model_name": "LayoutModel",
      "_view_count": null,
      "_view_module": "@jupyter-widgets/base",
      "_view_module_version": "1.2.0",
      "_view_name": "LayoutView",
      "align_content": null,
      "align_items": null,
      "align_self": null,
      "border": null,
      "bottom": null,
      "display": null,
      "flex": null,
      "flex_flow": null,
      "grid_area": null,
      "grid_auto_columns": null,
      "grid_auto_flow": null,
      "grid_auto_rows": null,
      "grid_column": null,
      "grid_gap": null,
      "grid_row": null,
      "grid_template_areas": null,
      "grid_template_columns": null,
      "grid_template_rows": null,
      "height": null,
      "justify_content": null,
      "justify_items": null,
      "left": null,
      "margin": null,
      "max_height": null,
      "max_width": null,
      "min_height": null,
      "min_width": null,
      "object_fit": null,
      "object_position": null,
      "order": null,
      "overflow": null,
      "overflow_x": null,
      "overflow_y": null,
      "padding": null,
      "right": null,
      "top": null,
      "visibility": null,
      "width": null
     }
    },
    "08c79665ba2544138266758fdd63e49d": {
     "model_module": "@jupyter-widgets/controls",
     "model_module_version": "1.5.0",
     "model_name": "HTMLModel",
     "state": {
      "_dom_classes": [],
      "_model_module": "@jupyter-widgets/controls",
      "_model_module_version": "1.5.0",
      "_model_name": "HTMLModel",
      "_view_count": null,
      "_view_module": "@jupyter-widgets/controls",
      "_view_module_version": "1.5.0",
      "_view_name": "HTMLView",
      "description": "",
      "description_tooltip": null,
      "layout": "IPY_MODEL_f50c165cf496464f819696e3c7c884d5",
      "placeholder": "​",
      "style": "IPY_MODEL_e8cae96a71004504a805007b85ed1744",
      "value": "config.json: 100%"
     }
    },
    "0a2b3473acf04f2f8b3e7cfa9e21fcea": {
     "model_module": "@jupyter-widgets/controls",
     "model_module_version": "1.5.0",
     "model_name": "LabelModel",
     "state": {
      "_dom_classes": [],
      "_model_module": "@jupyter-widgets/controls",
      "_model_module_version": "1.5.0",
      "_model_name": "LabelModel",
      "_view_count": null,
      "_view_module": "@jupyter-widgets/controls",
      "_view_module_version": "1.5.0",
      "_view_name": "LabelView",
      "description": "",
      "description_tooltip": null,
      "layout": "IPY_MODEL_06cf7128fc204878af6902d335df2e05",
      "placeholder": "​",
      "style": "IPY_MODEL_c6c540de54184fc2a851395a2c89b08b",
      "value": "Kaggle credentials successfully validated."
     }
    },
    "0a2f30de3b694daeb3fb3fca03f59500": {
     "model_module": "@jupyter-widgets/controls",
     "model_module_version": "1.5.0",
     "model_name": "DescriptionStyleModel",
     "state": {
      "_model_module": "@jupyter-widgets/controls",
      "_model_module_version": "1.5.0",
      "_model_name": "DescriptionStyleModel",
      "_view_count": null,
      "_view_module": "@jupyter-widgets/base",
      "_view_module_version": "1.2.0",
      "_view_name": "StyleView",
      "description_width": ""
     }
    },
    "19d7d30a09b84db4a28ecacb6ff74961": {
     "model_module": "@jupyter-widgets/base",
     "model_module_version": "1.2.0",
     "model_name": "LayoutModel",
     "state": {
      "_model_module": "@jupyter-widgets/base",
      "_model_module_version": "1.2.0",
      "_model_name": "LayoutModel",
      "_view_count": null,
      "_view_module": "@jupyter-widgets/base",
      "_view_module_version": "1.2.0",
      "_view_name": "LayoutView",
      "align_content": null,
      "align_items": null,
      "align_self": null,
      "border": null,
      "bottom": null,
      "display": null,
      "flex": null,
      "flex_flow": null,
      "grid_area": null,
      "grid_auto_columns": null,
      "grid_auto_flow": null,
      "grid_auto_rows": null,
      "grid_column": null,
      "grid_gap": null,
      "grid_row": null,
      "grid_template_areas": null,
      "grid_template_columns": null,
      "grid_template_rows": null,
      "height": null,
      "justify_content": null,
      "justify_items": null,
      "left": null,
      "margin": null,
      "max_height": null,
      "max_width": null,
      "min_height": null,
      "min_width": null,
      "object_fit": null,
      "object_position": null,
      "order": null,
      "overflow": null,
      "overflow_x": null,
      "overflow_y": null,
      "padding": null,
      "right": null,
      "top": null,
      "visibility": null,
      "width": null
     }
    },
    "363b819b7ac3490a8306f3edba4fc14e": {
     "model_module": "@jupyter-widgets/controls",
     "model_module_version": "1.5.0",
     "model_name": "HBoxModel",
     "state": {
      "_dom_classes": [],
      "_model_module": "@jupyter-widgets/controls",
      "_model_module_version": "1.5.0",
      "_model_name": "HBoxModel",
      "_view_count": null,
      "_view_module": "@jupyter-widgets/controls",
      "_view_module_version": "1.5.0",
      "_view_name": "HBoxView",
      "box_style": "",
      "children": [
       "IPY_MODEL_43a57c9572d24521a5a178c78727f79f",
       "IPY_MODEL_efba3b92a365455b94e54e1a336828c5",
       "IPY_MODEL_8b562ec723494facb20fa31696d65d29"
      ],
      "layout": "IPY_MODEL_064040aee9ff4f8d8a86930830ffe58c"
     }
    },
    "43a57c9572d24521a5a178c78727f79f": {
     "model_module": "@jupyter-widgets/controls",
     "model_module_version": "1.5.0",
     "model_name": "HTMLModel",
     "state": {
      "_dom_classes": [],
      "_model_module": "@jupyter-widgets/controls",
      "_model_module_version": "1.5.0",
      "_model_name": "HTMLModel",
      "_view_count": null,
      "_view_module": "@jupyter-widgets/controls",
      "_view_module_version": "1.5.0",
      "_view_name": "HTMLView",
      "description": "",
      "description_tooltip": null,
      "layout": "IPY_MODEL_80fd04fe438b43a38670dc72adf0e2bb",
      "placeholder": "​",
      "style": "IPY_MODEL_5d8c143303de4002b2e9e77120c586b6",
      "value": "pytorch_model.bin: 100%"
     }
    },
    "460f1c1ec69341b7a9b2c86dbd7715c6": {
     "model_module": "@jupyter-widgets/base",
     "model_module_version": "1.2.0",
     "model_name": "LayoutModel",
     "state": {
      "_model_module": "@jupyter-widgets/base",
      "_model_module_version": "1.2.0",
      "_model_name": "LayoutModel",
      "_view_count": null,
      "_view_module": "@jupyter-widgets/base",
      "_view_module_version": "1.2.0",
      "_view_name": "LayoutView",
      "align_content": null,
      "align_items": null,
      "align_self": null,
      "border": null,
      "bottom": null,
      "display": null,
      "flex": null,
      "flex_flow": null,
      "grid_area": null,
      "grid_auto_columns": null,
      "grid_auto_flow": null,
      "grid_auto_rows": null,
      "grid_column": null,
      "grid_gap": null,
      "grid_row": null,
      "grid_template_areas": null,
      "grid_template_columns": null,
      "grid_template_rows": null,
      "height": null,
      "justify_content": null,
      "justify_items": null,
      "left": null,
      "margin": null,
      "max_height": null,
      "max_width": null,
      "min_height": null,
      "min_width": null,
      "object_fit": null,
      "object_position": null,
      "order": null,
      "overflow": null,
      "overflow_x": null,
      "overflow_y": null,
      "padding": null,
      "right": null,
      "top": null,
      "visibility": null,
      "width": null
     }
    },
    "4f6e9396ecf8401bbdf6c58a68831883": {
     "model_module": "@jupyter-widgets/controls",
     "model_module_version": "1.5.0",
     "model_name": "HTMLModel",
     "state": {
      "_dom_classes": [],
      "_model_module": "@jupyter-widgets/controls",
      "_model_module_version": "1.5.0",
      "_model_name": "HTMLModel",
      "_view_count": null,
      "_view_module": "@jupyter-widgets/controls",
      "_view_module_version": "1.5.0",
      "_view_name": "HTMLView",
      "description": "",
      "description_tooltip": null,
      "layout": "IPY_MODEL_19d7d30a09b84db4a28ecacb6ff74961",
      "placeholder": "​",
      "style": "IPY_MODEL_eaf2a00b24ef4e95b53d4f9e4da8e047",
      "value": " 579/579 [00:00&lt;00:00, 50.6kB/s]"
     }
    },
    "5d8c143303de4002b2e9e77120c586b6": {
     "model_module": "@jupyter-widgets/controls",
     "model_module_version": "1.5.0",
     "model_name": "DescriptionStyleModel",
     "state": {
      "_model_module": "@jupyter-widgets/controls",
      "_model_module_version": "1.5.0",
      "_model_name": "DescriptionStyleModel",
      "_view_count": null,
      "_view_module": "@jupyter-widgets/base",
      "_view_module_version": "1.2.0",
      "_view_name": "StyleView",
      "description_width": ""
     }
    },
    "63af8288a2f54a62863816174bbb387f": {
     "model_module": "@jupyter-widgets/base",
     "model_module_version": "1.2.0",
     "model_name": "LayoutModel",
     "state": {
      "_model_module": "@jupyter-widgets/base",
      "_model_module_version": "1.2.0",
      "_model_name": "LayoutModel",
      "_view_count": null,
      "_view_module": "@jupyter-widgets/base",
      "_view_module_version": "1.2.0",
      "_view_name": "LayoutView",
      "align_content": null,
      "align_items": null,
      "align_self": null,
      "border": null,
      "bottom": null,
      "display": null,
      "flex": null,
      "flex_flow": null,
      "grid_area": null,
      "grid_auto_columns": null,
      "grid_auto_flow": null,
      "grid_auto_rows": null,
      "grid_column": null,
      "grid_gap": null,
      "grid_row": null,
      "grid_template_areas": null,
      "grid_template_columns": null,
      "grid_template_rows": null,
      "height": null,
      "justify_content": null,
      "justify_items": null,
      "left": null,
      "margin": null,
      "max_height": null,
      "max_width": null,
      "min_height": null,
      "min_width": null,
      "object_fit": null,
      "object_position": null,
      "order": null,
      "overflow": null,
      "overflow_x": null,
      "overflow_y": null,
      "padding": null,
      "right": null,
      "top": null,
      "visibility": null,
      "width": null
     }
    },
    "7a05000f58f24c619b177c1ffe1291a6": {
     "model_module": "@jupyter-widgets/controls",
     "model_module_version": "1.5.0",
     "model_name": "VBoxModel",
     "state": {
      "_dom_classes": [],
      "_model_module": "@jupyter-widgets/controls",
      "_model_module_version": "1.5.0",
      "_model_name": "VBoxModel",
      "_view_count": null,
      "_view_module": "@jupyter-widgets/controls",
      "_view_module_version": "1.5.0",
      "_view_name": "VBoxView",
      "box_style": "",
      "children": [
       "IPY_MODEL_0a2b3473acf04f2f8b3e7cfa9e21fcea"
      ],
      "layout": "IPY_MODEL_f8b6f0cf7d8645d39b250896ae3e004d"
     }
    },
    "80fd04fe438b43a38670dc72adf0e2bb": {
     "model_module": "@jupyter-widgets/base",
     "model_module_version": "1.2.0",
     "model_name": "LayoutModel",
     "state": {
      "_model_module": "@jupyter-widgets/base",
      "_model_module_version": "1.2.0",
      "_model_name": "LayoutModel",
      "_view_count": null,
      "_view_module": "@jupyter-widgets/base",
      "_view_module_version": "1.2.0",
      "_view_name": "LayoutView",
      "align_content": null,
      "align_items": null,
      "align_self": null,
      "border": null,
      "bottom": null,
      "display": null,
      "flex": null,
      "flex_flow": null,
      "grid_area": null,
      "grid_auto_columns": null,
      "grid_auto_flow": null,
      "grid_auto_rows": null,
      "grid_column": null,
      "grid_gap": null,
      "grid_row": null,
      "grid_template_areas": null,
      "grid_template_columns": null,
      "grid_template_rows": null,
      "height": null,
      "justify_content": null,
      "justify_items": null,
      "left": null,
      "margin": null,
      "max_height": null,
      "max_width": null,
      "min_height": null,
      "min_width": null,
      "object_fit": null,
      "object_position": null,
      "order": null,
      "overflow": null,
      "overflow_x": null,
      "overflow_y": null,
      "padding": null,
      "right": null,
      "top": null,
      "visibility": null,
      "width": null
     }
    },
    "82827f2d0140448aa02b943f889a3b3d": {
     "model_module": "@jupyter-widgets/base",
     "model_module_version": "1.2.0",
     "model_name": "LayoutModel",
     "state": {
      "_model_module": "@jupyter-widgets/base",
      "_model_module_version": "1.2.0",
      "_model_name": "LayoutModel",
      "_view_count": null,
      "_view_module": "@jupyter-widgets/base",
      "_view_module_version": "1.2.0",
      "_view_name": "LayoutView",
      "align_content": null,
      "align_items": null,
      "align_self": null,
      "border": null,
      "bottom": null,
      "display": null,
      "flex": null,
      "flex_flow": null,
      "grid_area": null,
      "grid_auto_columns": null,
      "grid_auto_flow": null,
      "grid_auto_rows": null,
      "grid_column": null,
      "grid_gap": null,
      "grid_row": null,
      "grid_template_areas": null,
      "grid_template_columns": null,
      "grid_template_rows": null,
      "height": null,
      "justify_content": null,
      "justify_items": null,
      "left": null,
      "margin": null,
      "max_height": null,
      "max_width": null,
      "min_height": null,
      "min_width": null,
      "object_fit": null,
      "object_position": null,
      "order": null,
      "overflow": null,
      "overflow_x": null,
      "overflow_y": null,
      "padding": null,
      "right": null,
      "top": null,
      "visibility": null,
      "width": null
     }
    },
    "8b2986856b97480c9e25130fd0c765cc": {
     "model_module": "@jupyter-widgets/controls",
     "model_module_version": "1.5.0",
     "model_name": "HBoxModel",
     "state": {
      "_dom_classes": [],
      "_model_module": "@jupyter-widgets/controls",
      "_model_module_version": "1.5.0",
      "_model_name": "HBoxModel",
      "_view_count": null,
      "_view_module": "@jupyter-widgets/controls",
      "_view_module_version": "1.5.0",
      "_view_name": "HBoxView",
      "box_style": "",
      "children": [
       "IPY_MODEL_08c79665ba2544138266758fdd63e49d",
       "IPY_MODEL_9b4545009549467abeacf93d9f3fb597",
       "IPY_MODEL_4f6e9396ecf8401bbdf6c58a68831883"
      ],
      "layout": "IPY_MODEL_460f1c1ec69341b7a9b2c86dbd7715c6"
     }
    },
    "8b562ec723494facb20fa31696d65d29": {
     "model_module": "@jupyter-widgets/controls",
     "model_module_version": "1.5.0",
     "model_name": "HTMLModel",
     "state": {
      "_dom_classes": [],
      "_model_module": "@jupyter-widgets/controls",
      "_model_module_version": "1.5.0",
      "_model_name": "HTMLModel",
      "_view_count": null,
      "_view_module": "@jupyter-widgets/controls",
      "_view_module_version": "1.5.0",
      "_view_name": "HTMLView",
      "description": "",
      "description_tooltip": null,
      "layout": "IPY_MODEL_63af8288a2f54a62863816174bbb387f",
      "placeholder": "​",
      "style": "IPY_MODEL_0a2f30de3b694daeb3fb3fca03f59500",
      "value": " 1.33G/1.33G [00:05&lt;00:00, 210MB/s]"
     }
    },
    "9b4545009549467abeacf93d9f3fb597": {
     "model_module": "@jupyter-widgets/controls",
     "model_module_version": "1.5.0",
     "model_name": "FloatProgressModel",
     "state": {
      "_dom_classes": [],
      "_model_module": "@jupyter-widgets/controls",
      "_model_module_version": "1.5.0",
      "_model_name": "FloatProgressModel",
      "_view_count": null,
      "_view_module": "@jupyter-widgets/controls",
      "_view_module_version": "1.5.0",
      "_view_name": "ProgressView",
      "bar_style": "success",
      "description": "",
      "description_tooltip": null,
      "layout": "IPY_MODEL_82827f2d0140448aa02b943f889a3b3d",
      "max": 579,
      "min": 0,
      "orientation": "horizontal",
      "style": "IPY_MODEL_c4d0b5de8dc4468684c7f8746fefd448",
      "value": 579
     }
    },
    "b423fe6de07748eb95a55d010e3efa91": {
     "model_module": "@jupyter-widgets/controls",
     "model_module_version": "1.5.0",
     "model_name": "ProgressStyleModel",
     "state": {
      "_model_module": "@jupyter-widgets/controls",
      "_model_module_version": "1.5.0",
      "_model_name": "ProgressStyleModel",
      "_view_count": null,
      "_view_module": "@jupyter-widgets/base",
      "_view_module_version": "1.2.0",
      "_view_name": "StyleView",
      "bar_color": null,
      "description_width": ""
     }
    },
    "c08cb364adcf4170a195eeb2a35ed308": {
     "model_module": "@jupyter-widgets/base",
     "model_module_version": "1.2.0",
     "model_name": "LayoutModel",
     "state": {
      "_model_module": "@jupyter-widgets/base",
      "_model_module_version": "1.2.0",
      "_model_name": "LayoutModel",
      "_view_count": null,
      "_view_module": "@jupyter-widgets/base",
      "_view_module_version": "1.2.0",
      "_view_name": "LayoutView",
      "align_content": null,
      "align_items": null,
      "align_self": null,
      "border": null,
      "bottom": null,
      "display": null,
      "flex": null,
      "flex_flow": null,
      "grid_area": null,
      "grid_auto_columns": null,
      "grid_auto_flow": null,
      "grid_auto_rows": null,
      "grid_column": null,
      "grid_gap": null,
      "grid_row": null,
      "grid_template_areas": null,
      "grid_template_columns": null,
      "grid_template_rows": null,
      "height": null,
      "justify_content": null,
      "justify_items": null,
      "left": null,
      "margin": null,
      "max_height": null,
      "max_width": null,
      "min_height": null,
      "min_width": null,
      "object_fit": null,
      "object_position": null,
      "order": null,
      "overflow": null,
      "overflow_x": null,
      "overflow_y": null,
      "padding": null,
      "right": null,
      "top": null,
      "visibility": null,
      "width": null
     }
    },
    "c4d0b5de8dc4468684c7f8746fefd448": {
     "model_module": "@jupyter-widgets/controls",
     "model_module_version": "1.5.0",
     "model_name": "ProgressStyleModel",
     "state": {
      "_model_module": "@jupyter-widgets/controls",
      "_model_module_version": "1.5.0",
      "_model_name": "ProgressStyleModel",
      "_view_count": null,
      "_view_module": "@jupyter-widgets/base",
      "_view_module_version": "1.2.0",
      "_view_name": "StyleView",
      "bar_color": null,
      "description_width": ""
     }
    },
    "c6c540de54184fc2a851395a2c89b08b": {
     "model_module": "@jupyter-widgets/controls",
     "model_module_version": "1.5.0",
     "model_name": "DescriptionStyleModel",
     "state": {
      "_model_module": "@jupyter-widgets/controls",
      "_model_module_version": "1.5.0",
      "_model_name": "DescriptionStyleModel",
      "_view_count": null,
      "_view_module": "@jupyter-widgets/base",
      "_view_module_version": "1.2.0",
      "_view_name": "StyleView",
      "description_width": ""
     }
    },
    "e8cae96a71004504a805007b85ed1744": {
     "model_module": "@jupyter-widgets/controls",
     "model_module_version": "1.5.0",
     "model_name": "DescriptionStyleModel",
     "state": {
      "_model_module": "@jupyter-widgets/controls",
      "_model_module_version": "1.5.0",
      "_model_name": "DescriptionStyleModel",
      "_view_count": null,
      "_view_module": "@jupyter-widgets/base",
      "_view_module_version": "1.2.0",
      "_view_name": "StyleView",
      "description_width": ""
     }
    },
    "eaf2a00b24ef4e95b53d4f9e4da8e047": {
     "model_module": "@jupyter-widgets/controls",
     "model_module_version": "1.5.0",
     "model_name": "DescriptionStyleModel",
     "state": {
      "_model_module": "@jupyter-widgets/controls",
      "_model_module_version": "1.5.0",
      "_model_name": "DescriptionStyleModel",
      "_view_count": null,
      "_view_module": "@jupyter-widgets/base",
      "_view_module_version": "1.2.0",
      "_view_name": "StyleView",
      "description_width": ""
     }
    },
    "efba3b92a365455b94e54e1a336828c5": {
     "model_module": "@jupyter-widgets/controls",
     "model_module_version": "1.5.0",
     "model_name": "FloatProgressModel",
     "state": {
      "_dom_classes": [],
      "_model_module": "@jupyter-widgets/controls",
      "_model_module_version": "1.5.0",
      "_model_name": "FloatProgressModel",
      "_view_count": null,
      "_view_module": "@jupyter-widgets/controls",
      "_view_module_version": "1.5.0",
      "_view_name": "ProgressView",
      "bar_style": "success",
      "description": "",
      "description_tooltip": null,
      "layout": "IPY_MODEL_c08cb364adcf4170a195eeb2a35ed308",
      "max": 1332809049,
      "min": 0,
      "orientation": "horizontal",
      "style": "IPY_MODEL_b423fe6de07748eb95a55d010e3efa91",
      "value": 1332809049
     }
    },
    "f50c165cf496464f819696e3c7c884d5": {
     "model_module": "@jupyter-widgets/base",
     "model_module_version": "1.2.0",
     "model_name": "LayoutModel",
     "state": {
      "_model_module": "@jupyter-widgets/base",
      "_model_module_version": "1.2.0",
      "_model_name": "LayoutModel",
      "_view_count": null,
      "_view_module": "@jupyter-widgets/base",
      "_view_module_version": "1.2.0",
      "_view_name": "LayoutView",
      "align_content": null,
      "align_items": null,
      "align_self": null,
      "border": null,
      "bottom": null,
      "display": null,
      "flex": null,
      "flex_flow": null,
      "grid_area": null,
      "grid_auto_columns": null,
      "grid_auto_flow": null,
      "grid_auto_rows": null,
      "grid_column": null,
      "grid_gap": null,
      "grid_row": null,
      "grid_template_areas": null,
      "grid_template_columns": null,
      "grid_template_rows": null,
      "height": null,
      "justify_content": null,
      "justify_items": null,
      "left": null,
      "margin": null,
      "max_height": null,
      "max_width": null,
      "min_height": null,
      "min_width": null,
      "object_fit": null,
      "object_position": null,
      "order": null,
      "overflow": null,
      "overflow_x": null,
      "overflow_y": null,
      "padding": null,
      "right": null,
      "top": null,
      "visibility": null,
      "width": null
     }
    },
    "f8b6f0cf7d8645d39b250896ae3e004d": {
     "model_module": "@jupyter-widgets/base",
     "model_module_version": "1.2.0",
     "model_name": "LayoutModel",
     "state": {
      "_model_module": "@jupyter-widgets/base",
      "_model_module_version": "1.2.0",
      "_model_name": "LayoutModel",
      "_view_count": null,
      "_view_module": "@jupyter-widgets/base",
      "_view_module_version": "1.2.0",
      "_view_name": "LayoutView",
      "align_content": null,
      "align_items": "center",
      "align_self": null,
      "border": null,
      "bottom": null,
      "display": "flex",
      "flex": null,
      "flex_flow": "column",
      "grid_area": null,
      "grid_auto_columns": null,
      "grid_auto_flow": null,
      "grid_auto_rows": null,
      "grid_column": null,
      "grid_gap": null,
      "grid_row": null,
      "grid_template_areas": null,
      "grid_template_columns": null,
      "grid_template_rows": null,
      "height": null,
      "justify_content": null,
      "justify_items": null,
      "left": null,
      "margin": null,
      "max_height": null,
      "max_width": null,
      "min_height": null,
      "min_width": null,
      "object_fit": null,
      "object_position": null,
      "order": null,
      "overflow": null,
      "overflow_x": null,
      "overflow_y": null,
      "padding": null,
      "right": null,
      "top": null,
      "visibility": null,
      "width": "50%"
     }
    }
   }
  }
 },
 "nbformat": 4,
 "nbformat_minor": 0
}
