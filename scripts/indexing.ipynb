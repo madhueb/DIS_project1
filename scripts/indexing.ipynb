{
 "cells": [
  {
   "cell_type": "code",
   "execution_count": 3,
   "metadata": {},
   "outputs": [],
   "source": [
    "import json\n",
    "import faiss\n",
    "import numpy as np\n",
    "#from config.config import CONFIG"
   ]
  },
  {
   "cell_type": "code",
   "execution_count": 7,
   "metadata": {},
   "outputs": [],
   "source": [
    "#load chunks embeddings\n",
    "with open(CONFIG['chunks_embeds_path']) as f:\n",
    "    chunks_embeds = json.load(f)\n",
    "\n",
    "d = 768  # chunks_embed.shape[1] \n",
    "N = 30 # nb of chunks neighbors in the graph\n",
    "index = faiss.IndexHNSWFlat(d, N,faiss.METRIC_INNER_PRODUCT)\n",
    "index.add(chunks_embeds)"
   ]
  },
  {
   "cell_type": "code",
   "execution_count": 30,
   "metadata": {},
   "outputs": [],
   "source": [
    "#Inferrence \n",
    "\n",
    "def retrieve_top_k_chunks(query_embedding, K=30):\n",
    "    distances, indices = index.search(query_embedding, K)\n",
    "    return distances, indices\n",
    "\n",
    "def retrieve_top_k_documents(indices, K=10):\n",
    "    docs = []\n",
    "    for i in indices :\n",
    "        # documents_chunks[i] = doc_id of chunk i\n",
    "        doc = documents_chunks[i]\n",
    "        if(doc not in docs):\n",
    "            docs.append(doc)\n",
    "    return docs[:K]\n",
    "\n",
    "\n",
    "distances, indices = retrieve_top_k_chunks(query_embedding, K=30)\n",
    "docs_retrieved = retrieve_top_k_documents(indices[0], K=10)\n"
   ]
  }
 ],
 "metadata": {
  "kernelspec": {
   "display_name": ".venv",
   "language": "python",
   "name": "python3"
  },
  "language_info": {
   "codemirror_mode": {
    "name": "ipython",
    "version": 3
   },
   "file_extension": ".py",
   "mimetype": "text/x-python",
   "name": "python",
   "nbconvert_exporter": "python",
   "pygments_lexer": "ipython3",
   "version": "3.9.6"
  }
 },
 "nbformat": 4,
 "nbformat_minor": 2
}
