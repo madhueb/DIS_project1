{
 "cells": [
  {
   "cell_type": "code",
   "execution_count": 1,
   "id": "initial_id",
   "metadata": {
    "collapsed": true,
    "colab": {
     "base_uri": "https://localhost:8080/"
    },
    "id": "initial_id",
    "outputId": "3b79f0f4-7f0f-447b-f684-506c3f1d7dd3"
   },
   "outputs": [
    {
     "output_type": "stream",
     "name": "stdout",
     "text": [
      "Mounted at /content/drive\n"
     ]
    }
   ],
   "source": [
    "from click.core import batch\n",
    "# drive\n",
    "from google.colab import drive\n",
    "drive.mount('/content/drive', force_remount=True)"
   ]
  },
  {
   "metadata": {
    "colab": {
     "base_uri": "https://localhost:8080/"
    },
    "id": "c1d6801783eaece7",
    "outputId": "d0f20d09-1b43-404a-8c3a-e08351e1a97f"
   },
   "cell_type": "code",
   "outputs": [
    {
     "output_type": "stream",
     "name": "stdout",
     "text": [
      "fatal: destination path 'DIS_project1' already exists and is not an empty directory.\n"
     ]
    }
   ],
   "execution_count": 2,
   "source": [
    "!git clone https://github.com/madhueb/DIS_project1.git\n",
    "import os\n",
    "os.chdir('./DIS_project1')"
   ],
   "id": "c1d6801783eaece7"
  },
  {
   "cell_type": "code",
   "source": [
    "!git pull"
   ],
   "metadata": {
    "colab": {
     "base_uri": "https://localhost:8080/"
    },
    "id": "D-9gvi9A5HJe",
    "outputId": "5cbaeca6-ad94-4791-9d7f-86dfede33d0f"
   },
   "id": "D-9gvi9A5HJe",
   "execution_count": 3,
   "outputs": [
    {
     "output_type": "stream",
     "name": "stdout",
     "text": [
      "remote: Enumerating objects: 9, done.\u001B[K\n",
      "remote: Counting objects:  11% (1/9)\u001B[K\rremote: Counting objects:  22% (2/9)\u001B[K\rremote: Counting objects:  33% (3/9)\u001B[K\rremote: Counting objects:  44% (4/9)\u001B[K\rremote: Counting objects:  55% (5/9)\u001B[K\rremote: Counting objects:  66% (6/9)\u001B[K\rremote: Counting objects:  77% (7/9)\u001B[K\rremote: Counting objects:  88% (8/9)\u001B[K\rremote: Counting objects: 100% (9/9)\u001B[K\rremote: Counting objects: 100% (9/9), done.\u001B[K\n",
      "remote: Compressing objects: 100% (1/1)\u001B[K\rremote: Compressing objects: 100% (1/1), done.\u001B[K\n",
      "remote: Total 5 (delta 4), reused 5 (delta 4), pack-reused 0 (from 0)\u001B[K\n",
      "Unpacking objects:  20% (1/5)\rUnpacking objects:  40% (2/5)\rUnpacking objects:  60% (3/5)\rUnpacking objects:  80% (4/5)\rUnpacking objects: 100% (5/5)\rUnpacking objects: 100% (5/5), 402 bytes | 402.00 KiB/s, done.\n",
      "From https://github.com/madhueb/DIS_project1\n",
      "   2559c82..60c5b99  main       -> origin/main\n",
      "Updating 2559c82..60c5b99\n",
      "Fast-forward\n",
      " src/models/dpr_index.py | 2 \u001B[32m+\u001B[m\u001B[31m-\u001B[m\n",
      " 1 file changed, 1 insertion(+), 1 deletion(-)\n"
     ]
    }
   ]
  },
  {
   "cell_type": "code",
   "source": [
    "!pip install faiss-cpu"
   ],
   "metadata": {
    "colab": {
     "base_uri": "https://localhost:8080/"
    },
    "id": "N6AZq45eKXI7",
    "outputId": "2f14832b-b53f-435e-cee3-0514f651b872"
   },
   "id": "N6AZq45eKXI7",
   "execution_count": 4,
   "outputs": [
    {
     "output_type": "stream",
     "name": "stdout",
     "text": [
      "Collecting faiss-cpu\n",
      "  Downloading faiss_cpu-1.9.0-cp310-cp310-manylinux_2_17_x86_64.manylinux2014_x86_64.whl.metadata (4.4 kB)\n",
      "Requirement already satisfied: numpy<3.0,>=1.25.0 in /usr/local/lib/python3.10/dist-packages (from faiss-cpu) (1.26.4)\n",
      "Requirement already satisfied: packaging in /usr/local/lib/python3.10/dist-packages (from faiss-cpu) (24.1)\n",
      "Downloading faiss_cpu-1.9.0-cp310-cp310-manylinux_2_17_x86_64.manylinux2014_x86_64.whl (27.5 MB)\n",
      "\u001B[2K   \u001B[90m━━━━━━━━━━━━━━━━━━━━━━━━━━━━━━━━━━━━━━━━\u001B[0m \u001B[32m27.5/27.5 MB\u001B[0m \u001B[31m36.8 MB/s\u001B[0m eta \u001B[36m0:00:00\u001B[0m\n",
      "\u001B[?25hInstalling collected packages: faiss-cpu\n",
      "Successfully installed faiss-cpu-1.9.0\n"
     ]
    }
   ]
  },
  {
   "cell_type": "code",
   "source": [],
   "metadata": {
    "id": "yl5KRB5NCoTJ"
   },
   "id": "yl5KRB5NCoTJ",
   "execution_count": null,
   "outputs": []
  },
  {
   "metadata": {
    "colab": {
     "base_uri": "https://localhost:8080/"
    },
    "id": "b0136b06f82485ff",
    "outputId": "86409887-2898-48cb-94c3-19e69e60728e"
   },
   "cell_type": "code",
   "outputs": [
    {
     "output_type": "stream",
     "name": "stdout",
     "text": [
      "16\n"
     ]
    },
    {
     "output_type": "stream",
     "name": "stderr",
     "text": [
      "/usr/local/lib/python3.10/dist-packages/huggingface_hub/utils/_token.py:89: UserWarning: \n",
      "The secret `HF_TOKEN` does not exist in your Colab secrets.\n",
      "To authenticate with the Hugging Face Hub, create a token in your settings tab (https://huggingface.co/settings/tokens), set it as secret in your Google Colab and restart your session.\n",
      "You will be able to reuse this secret in all of your notebooks.\n",
      "Please note that authentication is recommended but still optional to access public models or datasets.\n",
      "  warnings.warn(\n",
      "/usr/local/lib/python3.10/dist-packages/transformers/tokenization_utils_base.py:1601: FutureWarning: `clean_up_tokenization_spaces` was not set. It will be set to `True` by default. This behavior will be depracted in transformers v4.45, and will be then set to `False` by default. For more details check this issue: https://github.com/huggingface/transformers/issues/31884\n",
      "  warnings.warn(\n",
      "/content/DIS_project1/src/models/dpr_index.py:33: FutureWarning: You are using `torch.load` with `weights_only=False` (the current default value), which uses the default pickle module implicitly. It is possible to construct malicious pickle data which will execute arbitrary code during unpickling (See https://github.com/pytorch/pytorch/blob/main/SECURITY.md#untrusted-models for more details). In a future release, the default value for `weights_only` will be flipped to `True`. This limits the functions that could be executed during unpickling. Arbitrary objects will no longer be allowed to be loaded via this mode unless they are explicitly allowlisted by the user via `torch.serialization.add_safe_globals`. We recommend you start setting `weights_only=True` for any use case where you don't have full control of the loaded file. Please open an issue on GitHub for any issues related to this experimental feature.\n",
      "  self.q_encoder.load_state_dict(torch.load(f\"{config['load_path']}/query_encoder.pth\"))\n"
     ]
    },
    {
     "output_type": "stream",
     "name": "stdout",
     "text": [
      "Loaded doc encodes\n"
     ]
    },
    {
     "output_type": "stream",
     "name": "stderr",
     "text": [
      "100%|██████████| 268022/268022 [00:00<00:00, 979313.52it/s]\n"
     ]
    },
    {
     "output_type": "stream",
     "name": "stdout",
     "text": [
      "Loading index\n"
     ]
    },
    {
     "output_type": "stream",
     "name": "stderr",
     "text": [
      "100%|██████████| 7/7 [00:34<00:00,  4.92s/it]\n"
     ]
    }
   ],
   "execution_count": 3,
   "source": [
    "from config.config import CONFIG\n",
    "from src.models.dpr_index import DPRIndexModule\n",
    "\n",
    "print(CONFIG['index_N'])\n",
    "dpr_index = DPRIndexModule(CONFIG, load_index=True)\n",
    "# dpr_index = DPRIndexModule(CONFIG)"
   ],
   "id": "b0136b06f82485ff"
  },
  {
   "metadata": {
    "id": "592e83ec44e9f874"
   },
   "cell_type": "code",
   "outputs": [],
   "execution_count": 4,
   "source": [
    "import pandas as pd\n",
    "\n",
    "test_df = pd.read_csv(CONFIG['test_path'])"
   ],
   "id": "592e83ec44e9f874"
  },
  {
   "metadata": {
    "colab": {
     "base_uri": "https://localhost:8080/"
    },
    "id": "fca881946d8d2647",
    "outputId": "7b72fb4e-1ad7-4fe6-c629-379d5e0bc11d"
   },
   "cell_type": "code",
   "outputs": [
    {
     "output_type": "stream",
     "name": "stderr",
     "text": [
      "\r  0%|          | 0/32 [00:00<?, ?it/s]/content/DIS_project1/src/models/dpr_index.py:126: UserWarning: Creating a tensor from a list of numpy.ndarrays is extremely slow. Please consider converting the list to a single numpy.ndarray with numpy.array() before converting to a tensor. (Triggered internally at ../torch/csrc/utils/tensor_new.cpp:278.)\n",
      "  chunk_tensor = torch.tensor(chunk_tensor).to(self.config['device'])\n",
      " 28%|██▊       | 9/32 [01:50<04:58, 12.99s/it]"
     ]
    }
   ],
   "execution_count": null,
   "source": [
    "import torch\n",
    "from tqdm import tqdm\n",
    "\n",
    "batch_size = CONFIG['batch_size'] * 8\n",
    "\n",
    "top_docs_df = pd.DataFrame(columns=['id', 'docids'])\n",
    "\n",
    "for i in tqdm(range(0, len(test_df), batch_size)):\n",
    "    batch_df = test_df.iloc[i:i+batch_size]\n",
    "    query = batch_df['query'].tolist()\n",
    "    langs = batch_df['lang'].tolist()\n",
    "    ids = batch_df['id'].tolist()\n",
    "    top_docs_batch = dpr_index(query, langs)\n",
    "    top_docs_df = pd.concat([top_docs_df, pd.DataFrame({'id': ids, 'docids': top_docs_batch})], ignore_index=True)\n",
    "\n",
    "\n",
    "top_docs_df.to_csv(CONFIG['submit_path'], index=False)"
   ],
   "id": "fca881946d8d2647"
  },
  {
   "cell_type": "code",
   "source": [
    "import pandas as pd\n",
    "\n",
    "test_df = pd.read_csv(CONFIG['dev_path']).iloc[:100]"
   ],
   "metadata": {
    "id": "vdN9MvK1EyPw"
   },
   "id": "vdN9MvK1EyPw",
   "execution_count": 4,
   "outputs": []
  },
  {
   "cell_type": "code",
   "source": [
    "import torch\n",
    "from tqdm import tqdm\n",
    "\n",
    "batch_size = CONFIG['batch_size'] * 8\n",
    "\n",
    "currect = 0\n",
    "\n",
    "for i in tqdm(range(0, len(test_df), batch_size)):\n",
    "    batch_df = test_df.iloc[i:i+batch_size]\n",
    "    query = batch_df['query'].tolist()\n",
    "    langs = batch_df['lang'].tolist()\n",
    "    pos = batch_df['positive_docs'].tolist()\n",
    "    top_docs_batch = dpr_index(query, langs)\n",
    "    for j in range(len(top_docs_batch)):\n",
    "        if pos[j] in top_docs_batch[j]:\n",
    "            currect += 1\n",
    "print(currect/len(test_df))\n"
   ],
   "metadata": {
    "colab": {
     "base_uri": "https://localhost:8080/"
    },
    "id": "q9hKk3EtE0cn",
    "outputId": "e00b5755-2380-42b6-b248-e3b866094623"
   },
   "id": "q9hKk3EtE0cn",
   "execution_count": 5,
   "outputs": [
    {
     "output_type": "stream",
     "name": "stderr",
     "text": [
      "\r  0%|          | 0/2 [00:00<?, ?it/s]/content/DIS_project1/src/models/dpr_index.py:126: UserWarning: Creating a tensor from a list of numpy.ndarrays is extremely slow. Please consider converting the list to a single numpy.ndarray with numpy.array() before converting to a tensor. (Triggered internally at ../torch/csrc/utils/tensor_new.cpp:278.)\n",
      "  chunk_tensor = torch.tensor(chunk_tensor).to(self.config['device'])\n",
      "100%|██████████| 2/2 [00:19<00:00,  9.68s/it]"
     ]
    },
    {
     "output_type": "stream",
     "name": "stdout",
     "text": [
      "0.0\n"
     ]
    },
    {
     "output_type": "stream",
     "name": "stderr",
     "text": [
      "\n"
     ]
    }
   ]
  }
 ],
 "metadata": {
  "kernelspec": {
   "display_name": "Python 3",
   "name": "python3"
  },
  "language_info": {
   "codemirror_mode": {
    "name": "ipython",
    "version": 2
   },
   "file_extension": ".py",
   "mimetype": "text/x-python",
   "name": "python",
   "nbconvert_exporter": "python",
   "pygments_lexer": "ipython2",
   "version": "2.7.6"
  },
  "colab": {
   "provenance": [],
   "machine_shape": "hm",
   "gpuType": "A100"
  },
  "accelerator": "GPU"
 },
 "nbformat": 4,
 "nbformat_minor": 5
}
