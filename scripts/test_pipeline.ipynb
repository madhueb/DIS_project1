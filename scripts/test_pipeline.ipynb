{
 "cells": [
  {
   "cell_type": "code",
   "execution_count": null,
   "id": "initial_id",
   "metadata": {
    "collapsed": true
   },
   "outputs": [],
   "source": [
    "from click.core import batch\n",
    "# drive\n",
    "from google.colab import drive\n",
    "drive.mount('/content/drive', force_remount=True)"
   ]
  },
  {
   "metadata": {},
   "cell_type": "code",
   "outputs": [],
   "execution_count": null,
   "source": [
    "!git clone https://github.com/madhueb/DIS_project1.git\n",
    "import os\n",
    "os.chdir('./DIS_project1')"
   ],
   "id": "c1d6801783eaece7"
  },
  {
   "metadata": {},
   "cell_type": "code",
   "outputs": [],
   "execution_count": null,
   "source": [
    "from config.config import CONFIG\n",
    "from src.models.dpr_index import DPRIndexModule\n",
    "\n",
    "dpr_index = DPRIndexModule(CONFIG)"
   ],
   "id": "b0136b06f82485ff"
  },
  {
   "metadata": {},
   "cell_type": "code",
   "outputs": [],
   "execution_count": null,
   "source": [
    "import pandas as pd\n",
    "\n",
    "test_df = pd.read_csv(CONFIG['test_path'])"
   ],
   "id": "592e83ec44e9f874"
  },
  {
   "metadata": {},
   "cell_type": "code",
   "outputs": [],
   "execution_count": null,
   "source": [
    "import torch\n",
    "\n",
    "batch_size = CONFIG['batch_size']\n",
    "\n",
    "top_docs_df = pd.DataFrame(columns=['id', 'docids'])\n",
    "\n",
    "for i in range(0, len(test_df), batch_size):\n",
    "    batch_df = test_df.iloc[i:i+batch_size]\n",
    "    query = batch_df['query'].tolist()\n",
    "    langs = batch_df['lang'].tolist()\n",
    "    ids = batch_df['id'].tolist()\n",
    "    top_docs_batch = dpr_index(query, langs)\n",
    "    top_docs_df = top_docs_df.append(pd.DataFrame({'id': ids, 'docids': top_docs_batch}), ignore_index=True)\n",
    "    \n",
    "top_docs_df.to_csv(CONFIG['submit_path'], index=False)"
   ],
   "id": "fca881946d8d2647"
  }
 ],
 "metadata": {
  "kernelspec": {
   "display_name": "Python 3",
   "language": "python",
   "name": "python3"
  },
  "language_info": {
   "codemirror_mode": {
    "name": "ipython",
    "version": 2
   },
   "file_extension": ".py",
   "mimetype": "text/x-python",
   "name": "python",
   "nbconvert_exporter": "python",
   "pygments_lexer": "ipython2",
   "version": "2.7.6"
  }
 },
 "nbformat": 4,
 "nbformat_minor": 5
}
