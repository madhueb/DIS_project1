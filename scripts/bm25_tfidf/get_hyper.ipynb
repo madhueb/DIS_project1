{
 "cells": [
  {
   "cell_type": "code",
   "id": "initial_id",
   "metadata": {
    "collapsed": true,
    "ExecuteTime": {
     "end_time": "2024-11-07T12:07:08.595052Z",
     "start_time": "2024-11-07T12:07:08.570876Z"
    }
   },
   "source": [
    "import pandas as pd\n",
    "\n",
    "LANGS = ['en', 'es', 'fr', 'de', 'it', 'ko', 'ar']\n",
    "# read csv file for each lang\n",
    "for lang in LANGS:\n",
    "    df = pd.read_csv(f'./tune_{lang}.csv')\n",
    "    # get max hyperparameters\n",
    "    max_hyper = df.iloc[df['recall@10'].idxmax()]\n",
    "    print('lang:', lang, 'k1:', max_hyper['k1'], 'b:', max_hyper['b'], 'recall@10:', max_hyper['recall@10'])\n"
   ],
   "outputs": [
    {
     "name": "stdout",
     "output_type": "stream",
     "text": [
      "lang: en k1: 1.4 b: 0.5 recall@10: 0.8456\n",
      "lang: es k1: 1.7 b: 0.95 recall@10: 0.6712511091393079\n",
      "lang: fr k1: 1.8 b: 0.95 recall@10: 0.4247512437810945\n",
      "lang: de k1: 2.0 b: 0.95 recall@10: 0.4006497022198159\n",
      "lang: it k1: 2.0 b: 0.9 recall@10: 0.5086006508600651\n",
      "lang: ko k1: 1.7 b: 1.0 recall@10: 0.6123748862602366\n",
      "lang: ar k1: 1.6 b: 1.0 recall@10: 0.5773252614199229\n"
     ]
    }
   ],
   "execution_count": 7
  }
 ],
 "metadata": {
  "kernelspec": {
   "display_name": "Python 3",
   "language": "python",
   "name": "python3"
  },
  "language_info": {
   "codemirror_mode": {
    "name": "ipython",
    "version": 2
   },
   "file_extension": ".py",
   "mimetype": "text/x-python",
   "name": "python",
   "nbconvert_exporter": "python",
   "pygments_lexer": "ipython2",
   "version": "2.7.6"
  }
 },
 "nbformat": 4,
 "nbformat_minor": 5
}
