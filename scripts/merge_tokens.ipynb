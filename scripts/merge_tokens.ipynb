{
 "cells": [
  {
   "cell_type": "code",
   "id": "initial_id",
   "metadata": {
    "collapsed": true,
    "ExecuteTime": {
     "end_time": "2024-11-03T11:39:24.536782Z",
     "start_time": "2024-11-03T11:39:24.526605Z"
    }
   },
   "source": "import pickle as pkl\n",
   "outputs": [],
   "execution_count": 1
  },
  {
   "metadata": {
    "ExecuteTime": {
     "end_time": "2024-11-03T11:40:08.839506Z",
     "start_time": "2024-11-03T11:39:47.703648Z"
    }
   },
   "cell_type": "code",
   "source": [
    "from tqdm import tqdm\n",
    "\n",
    "# Load the tokenized data\n",
    "# LANGS = [\"en\", \"fr\", \"de\", \"it\", \"es\", \"ar\", \"ko\"]\n",
    "LANGS = [\"en\"]\n",
    "# split_nums = [20, 1, 1, 1, 1, 1, 1]\n",
    "split_nums = [20]\n",
    "\n",
    "for lan, split_num in tqdm(zip(LANGS, split_nums)):\n",
    "    all_tokens = []\n",
    "\n",
    "    for i in range(1, split_num + 1):\n",
    "        with open(f'../data/tokens_{lan}_{i}_{split_num}.pkl', 'rb') as f:\n",
    "            all_tokens += pkl.load(f)\n",
    "\n",
    "    with open(f'../data/tokens_{lan}.pkl', 'wb') as f:\n",
    "        pkl.dump(all_tokens, f)"
   ],
   "id": "764be46359666aa2",
   "outputs": [
    {
     "name": "stderr",
     "output_type": "stream",
     "text": [
      "0it [00:19, ?it/s]\n"
     ]
    },
    {
     "ename": "KeyboardInterrupt",
     "evalue": "",
     "output_type": "error",
     "traceback": [
      "\u001B[0;31m---------------------------------------------------------------------------\u001B[0m",
      "\u001B[0;31mKeyboardInterrupt\u001B[0m                         Traceback (most recent call last)",
      "Cell \u001B[0;32mIn[2], line 17\u001B[0m\n\u001B[1;32m     14\u001B[0m         all_tokens \u001B[38;5;241m+\u001B[39m\u001B[38;5;241m=\u001B[39m pkl\u001B[38;5;241m.\u001B[39mload(f)\n\u001B[1;32m     16\u001B[0m \u001B[38;5;28;01mwith\u001B[39;00m \u001B[38;5;28mopen\u001B[39m(\u001B[38;5;124mf\u001B[39m\u001B[38;5;124m'\u001B[39m\u001B[38;5;124m../data/tokens_\u001B[39m\u001B[38;5;132;01m{\u001B[39;00mlan\u001B[38;5;132;01m}\u001B[39;00m\u001B[38;5;124m.pkl\u001B[39m\u001B[38;5;124m'\u001B[39m, \u001B[38;5;124m'\u001B[39m\u001B[38;5;124mwb\u001B[39m\u001B[38;5;124m'\u001B[39m) \u001B[38;5;28;01mas\u001B[39;00m f:\n\u001B[0;32m---> 17\u001B[0m     \u001B[43mpkl\u001B[49m\u001B[38;5;241;43m.\u001B[39;49m\u001B[43mdump\u001B[49m\u001B[43m(\u001B[49m\u001B[43mall_tokens\u001B[49m\u001B[43m,\u001B[49m\u001B[43m \u001B[49m\u001B[43mf\u001B[49m\u001B[43m)\u001B[49m\n",
      "\u001B[0;31mKeyboardInterrupt\u001B[0m: "
     ]
    }
   ],
   "execution_count": 2
  }
 ],
 "metadata": {
  "kernelspec": {
   "display_name": "Python 3",
   "language": "python",
   "name": "python3"
  },
  "language_info": {
   "codemirror_mode": {
    "name": "ipython",
    "version": 2
   },
   "file_extension": ".py",
   "mimetype": "text/x-python",
   "name": "python",
   "nbconvert_exporter": "python",
   "pygments_lexer": "ipython2",
   "version": "2.7.6"
  }
 },
 "nbformat": 4,
 "nbformat_minor": 5
}
