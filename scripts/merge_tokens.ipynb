{
 "cells": [
  {
   "cell_type": "code",
   "id": "initial_id",
   "metadata": {
    "collapsed": true,
    "ExecuteTime": {
     "end_time": "2024-11-03T11:10:06.150536Z",
     "start_time": "2024-11-03T11:10:06.137088Z"
    }
   },
   "source": "import pickle as pkl\n",
   "outputs": [],
   "execution_count": 1
  },
  {
   "metadata": {
    "jupyter": {
     "is_executing": true
    },
    "ExecuteTime": {
     "start_time": "2024-11-03T11:15:05.890523Z"
    }
   },
   "cell_type": "code",
   "source": [
    "# Load the tokenized data\n",
    "LANGS = [\"en\", \"fr\", \"de\", \"it\", \"es\", \"ar\", \"ko\"]\n",
    "split_nums = [20, 1, 1, 1, 1, 1, 1]\n",
    "\n",
    "for lan, split_num in zip(LANGS, split_nums):\n",
    "    all_tokens = []\n",
    "\n",
    "    for i in range(1, split_num + 1):\n",
    "        with open(f'../data/tokens_{lan}_{i}_{split_num}.pkl', 'rb') as f:\n",
    "            all_tokens += pkl.load(f)\n",
    "\n",
    "    with open(f'../data/tokens_{lan}.pkl', 'wb') as f:\n",
    "        pkl.dump(all_tokens, f)"
   ],
   "id": "764be46359666aa2",
   "outputs": [],
   "execution_count": null
  }
 ],
 "metadata": {
  "kernelspec": {
   "display_name": "Python 3",
   "language": "python",
   "name": "python3"
  },
  "language_info": {
   "codemirror_mode": {
    "name": "ipython",
    "version": 2
   },
   "file_extension": ".py",
   "mimetype": "text/x-python",
   "name": "python",
   "nbconvert_exporter": "python",
   "pygments_lexer": "ipython2",
   "version": "2.7.6"
  }
 },
 "nbformat": 4,
 "nbformat_minor": 5
}
