{
 "cells": [
  {
   "cell_type": "code",
   "execution_count": null,
   "id": "initial_id",
   "metadata": {
    "collapsed": true
   },
   "outputs": [],
   "source": "import pickle\n"
  },
  {
   "metadata": {},
   "cell_type": "code",
   "outputs": [],
   "execution_count": null,
   "source": [
    "split_num = 12\n",
    "path = './'"
   ],
   "id": "cd6446127c9aeb31"
  },
  {
   "metadata": {},
   "cell_type": "code",
   "outputs": [],
   "execution_count": null,
   "source": [
    "from tqdm import tqdm\n",
    "\n",
    "embed_dict = {}\n",
    "for i in tqdm(range(1, split_num+1)):\n",
    "    # with open(f\"{path}/embed_all_chunks_{i}.pkl\", \"rb\") as f:\n",
    "    with open(f\"{path}/embed_all_chunks_new_{i}.pkl\", \"rb\") as f:\n",
    "        embeds_i = pickle.load(f)\n",
    "    docids_i, langs_i, embed_chunks_i = embeds_i\n",
    "    assert len(docids_i) == len(langs_i) == len(embed_chunks_i)\n",
    "    for docid, lang, embed_chunks in tqdm(zip(docids_i, langs_i, embed_chunks_i)):\n",
    "        embed_dict[docid] = {'lang': lang, 'embeds': embed_chunks}\n",
    "\n",
    "print(len(embed_dict))"
   ],
   "id": "d9b02aee4d597824"
  },
  {
   "metadata": {},
   "cell_type": "code",
   "outputs": [],
   "execution_count": null,
   "source": [
    "with open(f\"{path}/doc_embeds.pkl\", \"wb\") as f:\n",
    "    pickle.dump(embed_dict, f)"
   ],
   "id": "4f7d4ab9dc23ba40"
  }
 ],
 "metadata": {
  "kernelspec": {
   "display_name": "Python 3",
   "language": "python",
   "name": "python3"
  },
  "language_info": {
   "codemirror_mode": {
    "name": "ipython",
    "version": 2
   },
   "file_extension": ".py",
   "mimetype": "text/x-python",
   "name": "python",
   "nbconvert_exporter": "python",
   "pygments_lexer": "ipython2",
   "version": "2.7.6"
  }
 },
 "nbformat": 4,
 "nbformat_minor": 5
}
