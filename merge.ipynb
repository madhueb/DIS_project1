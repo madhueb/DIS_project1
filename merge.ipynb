{
 "cells": [
  {
   "cell_type": "code",
   "execution_count": null,
   "metadata": {},
   "outputs": [],
   "source": [
    "import pandas as pd\n",
    "from pathlib import Path\n",
    "from tqdm import tqdm\n",
    "import gc"
   ]
  },
  {
   "cell_type": "code",
   "execution_count": null,
   "metadata": {},
   "outputs": [],
   "source": [
    "corpus_df = pd.read_json(\"./data/corpus.json/corpus.json\", dtype={\"docid\": str, \"lang\": str})"
   ]
  },
  {
   "cell_type": "code",
   "execution_count": null,
   "metadata": {},
   "outputs": [],
   "source": [
    "del corpus_df[\"text\"]\n",
    "gc.collect()"
   ]
  },
  {
   "cell_type": "code",
   "execution_count": null,
   "metadata": {},
   "outputs": [],
   "source": [
    "corpus_df"
   ]
  },
  {
   "cell_type": "code",
   "execution_count": null,
   "metadata": {},
   "outputs": [],
   "source": [
    "lang = \"ar\"\n",
    "num_splits = 1\n",
    "\n",
    "root = Path(\"./tokens_lem_all\")\n",
    "output_dir = Path(\"./tokens_merged\") / f\"tokens_{lang}.pkl\"\n",
    "\n",
    "merged = []\n",
    "for split in tqdm(range(1, num_splits + 1)):\n",
    "    split_dir = root / f\"tokens_{lang}_{split}_{num_splits}.pkl\"\n",
    "    with open(split_dir, \"rb\") as f:\n",
    "        tokens = pd.read_pickle(f)\n",
    "    merged.extend(tokens)\n",
    "\n",
    "ids = corpus_df[corpus_df[\"lang\"] == lang][\"docid\"].tolist()\n",
    "\n",
    "print(len(merged), len(ids))\n",
    "print(\"writing\")\n",
    "\n",
    "with open(output_dir, \"wb\") as f:\n",
    "    pd.to_pickle((ids, merged), f)"
   ]
  },
  {
   "cell_type": "code",
   "execution_count": null,
   "metadata": {},
   "outputs": [],
   "source": [
    "207363 + 10676 + 10992 + 11250 + 11019 + 7893 + 8829"
   ]
  },
  {
   "cell_type": "code",
   "execution_count": null,
   "metadata": {},
   "outputs": [],
   "source": []
  }
 ],
 "metadata": {
  "kernelspec": {
   "display_name": "Python 3",
   "language": "python",
   "name": "python3"
  },
  "language_info": {
   "codemirror_mode": {
    "name": "ipython",
    "version": 3
   },
   "file_extension": ".py",
   "mimetype": "text/x-python",
   "name": "python",
   "nbconvert_exporter": "python",
   "pygments_lexer": "ipython3",
   "version": "3.12.6"
  }
 },
 "nbformat": 4,
 "nbformat_minor": 2
}
