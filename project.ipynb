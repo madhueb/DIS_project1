{
 "cells": [
  {
   "cell_type": "code",
   "execution_count": 9,
   "metadata": {},
   "outputs": [],
   "source": [
    "import pandas as pd\n",
    "import json\n",
    "import random\n",
    "import torch\n",
    "from transformers import BertTokenizer, BertModel\n",
    "from sklearn.metrics.pairwise import cosine_similarity\n",
    "from tqdm import tqdm"
   ]
  },
  {
   "cell_type": "code",
   "execution_count": 12,
   "metadata": {},
   "outputs": [
    {
     "data": {
      "text/html": [
       "<div>\n",
       "<style scoped>\n",
       "    .dataframe tbody tr th:only-of-type {\n",
       "        vertical-align: middle;\n",
       "    }\n",
       "\n",
       "    .dataframe tbody tr th {\n",
       "        vertical-align: top;\n",
       "    }\n",
       "\n",
       "    .dataframe thead th {\n",
       "        text-align: right;\n",
       "    }\n",
       "</style>\n",
       "<table border=\"1\" class=\"dataframe\">\n",
       "  <thead>\n",
       "    <tr style=\"text-align: right;\">\n",
       "      <th></th>\n",
       "      <th>query_id</th>\n",
       "      <th>query</th>\n",
       "      <th>positive_docs</th>\n",
       "      <th>negative_docs</th>\n",
       "      <th>lang</th>\n",
       "    </tr>\n",
       "  </thead>\n",
       "  <tbody>\n",
       "    <tr>\n",
       "      <th>0</th>\n",
       "      <td>q-en-1</td>\n",
       "      <td>What is the syntax for the shorthand of the co...</td>\n",
       "      <td>doc-en-8</td>\n",
       "      <td>['doc-en-9', 'doc-en-10', 'doc-en-11', 'doc-en...</td>\n",
       "      <td>en</td>\n",
       "    </tr>\n",
       "    <tr>\n",
       "      <th>1</th>\n",
       "      <td>q-en-49</td>\n",
       "      <td>What other companies did the FRC investigate K...</td>\n",
       "      <td>doc-en-391</td>\n",
       "      <td>['doc-en-392', 'doc-en-393', 'doc-en-394', 'do...</td>\n",
       "      <td>en</td>\n",
       "    </tr>\n",
       "    <tr>\n",
       "      <th>2</th>\n",
       "      <td>q-en-54</td>\n",
       "      <td>When did Canadian journalists hold a protest t...</td>\n",
       "      <td>doc-en-431</td>\n",
       "      <td>['doc-en-432', 'doc-en-433', 'doc-en-434', 'do...</td>\n",
       "      <td>en</td>\n",
       "    </tr>\n",
       "    <tr>\n",
       "      <th>3</th>\n",
       "      <td>q-en-80</td>\n",
       "      <td>What is the full name of the plant species des...</td>\n",
       "      <td>doc-en-637</td>\n",
       "      <td>['doc-en-638', 'doc-en-639', 'doc-en-640', 'do...</td>\n",
       "      <td>en</td>\n",
       "    </tr>\n",
       "    <tr>\n",
       "      <th>4</th>\n",
       "      <td>q-en-82</td>\n",
       "      <td>Who ordered the evacuation of the settlers in ...</td>\n",
       "      <td>doc-en-652</td>\n",
       "      <td>['doc-en-653', 'doc-en-654', 'doc-en-655', 'do...</td>\n",
       "      <td>en</td>\n",
       "    </tr>\n",
       "  </tbody>\n",
       "</table>\n",
       "</div>"
      ],
      "text/plain": [
       "  query_id                                              query positive_docs  \\\n",
       "0   q-en-1  What is the syntax for the shorthand of the co...      doc-en-8   \n",
       "1  q-en-49  What other companies did the FRC investigate K...    doc-en-391   \n",
       "2  q-en-54  When did Canadian journalists hold a protest t...    doc-en-431   \n",
       "3  q-en-80  What is the full name of the plant species des...    doc-en-637   \n",
       "4  q-en-82  Who ordered the evacuation of the settlers in ...    doc-en-652   \n",
       "\n",
       "                                       negative_docs lang  \n",
       "0  ['doc-en-9', 'doc-en-10', 'doc-en-11', 'doc-en...   en  \n",
       "1  ['doc-en-392', 'doc-en-393', 'doc-en-394', 'do...   en  \n",
       "2  ['doc-en-432', 'doc-en-433', 'doc-en-434', 'do...   en  \n",
       "3  ['doc-en-638', 'doc-en-639', 'doc-en-640', 'do...   en  \n",
       "4  ['doc-en-653', 'doc-en-654', 'doc-en-655', 'do...   en  "
      ]
     },
     "execution_count": 12,
     "metadata": {},
     "output_type": "execute_result"
    }
   ],
   "source": [
    "dev = pd.read_csv('./Data/dev.csv')\n",
    "dev.head()"
   ]
  },
  {
   "cell_type": "code",
   "execution_count": 13,
   "metadata": {},
   "outputs": [
    {
     "data": {
      "text/html": [
       "<div>\n",
       "<style scoped>\n",
       "    .dataframe tbody tr th:only-of-type {\n",
       "        vertical-align: middle;\n",
       "    }\n",
       "\n",
       "    .dataframe tbody tr th {\n",
       "        vertical-align: top;\n",
       "    }\n",
       "\n",
       "    .dataframe thead th {\n",
       "        text-align: right;\n",
       "    }\n",
       "</style>\n",
       "<table border=\"1\" class=\"dataframe\">\n",
       "  <thead>\n",
       "    <tr style=\"text-align: right;\">\n",
       "      <th></th>\n",
       "      <th>id</th>\n",
       "      <th>query_id</th>\n",
       "      <th>query</th>\n",
       "      <th>lang</th>\n",
       "    </tr>\n",
       "  </thead>\n",
       "  <tbody>\n",
       "    <tr>\n",
       "      <th>0</th>\n",
       "      <td>0</td>\n",
       "      <td>q-en-0</td>\n",
       "      <td>What organization proposed listing PFOA under ...</td>\n",
       "      <td>en</td>\n",
       "    </tr>\n",
       "    <tr>\n",
       "      <th>1</th>\n",
       "      <td>1</td>\n",
       "      <td>q-en-2</td>\n",
       "      <td>What type of coating do ZM1130 - ZM1132 have?</td>\n",
       "      <td>en</td>\n",
       "    </tr>\n",
       "    <tr>\n",
       "      <th>2</th>\n",
       "      <td>2</td>\n",
       "      <td>q-en-4</td>\n",
       "      <td>What year did Deutsche Bank sell its stake in ...</td>\n",
       "      <td>en</td>\n",
       "    </tr>\n",
       "    <tr>\n",
       "      <th>3</th>\n",
       "      <td>3</td>\n",
       "      <td>q-en-5</td>\n",
       "      <td>Who expressed exasperation when Raphael and Mo...</td>\n",
       "      <td>en</td>\n",
       "    </tr>\n",
       "    <tr>\n",
       "      <th>4</th>\n",
       "      <td>4</td>\n",
       "      <td>q-en-7</td>\n",
       "      <td>Who commissioned Amy Beach to compose a choral...</td>\n",
       "      <td>en</td>\n",
       "    </tr>\n",
       "  </tbody>\n",
       "</table>\n",
       "</div>"
      ],
      "text/plain": [
       "   id query_id                                              query lang\n",
       "0   0   q-en-0  What organization proposed listing PFOA under ...   en\n",
       "1   1   q-en-2      What type of coating do ZM1130 - ZM1132 have?   en\n",
       "2   2   q-en-4  What year did Deutsche Bank sell its stake in ...   en\n",
       "3   3   q-en-5  Who expressed exasperation when Raphael and Mo...   en\n",
       "4   4   q-en-7  Who commissioned Amy Beach to compose a choral...   en"
      ]
     },
     "execution_count": 13,
     "metadata": {},
     "output_type": "execute_result"
    }
   ],
   "source": [
    "test = pd.read_csv('./Data/test.csv')\n",
    "test.head()"
   ]
  },
  {
   "cell_type": "code",
   "execution_count": 14,
   "metadata": {},
   "outputs": [
    {
     "data": {
      "text/html": [
       "<div>\n",
       "<style scoped>\n",
       "    .dataframe tbody tr th:only-of-type {\n",
       "        vertical-align: middle;\n",
       "    }\n",
       "\n",
       "    .dataframe tbody tr th {\n",
       "        vertical-align: top;\n",
       "    }\n",
       "\n",
       "    .dataframe thead th {\n",
       "        text-align: right;\n",
       "    }\n",
       "</style>\n",
       "<table border=\"1\" class=\"dataframe\">\n",
       "  <thead>\n",
       "    <tr style=\"text-align: right;\">\n",
       "      <th></th>\n",
       "      <th>query_id</th>\n",
       "      <th>query</th>\n",
       "      <th>positive_docs</th>\n",
       "      <th>negative_docs</th>\n",
       "      <th>lang</th>\n",
       "    </tr>\n",
       "  </thead>\n",
       "  <tbody>\n",
       "    <tr>\n",
       "      <th>0</th>\n",
       "      <td>q-en-425512</td>\n",
       "      <td>What is the connection between AAA and Lucha U...</td>\n",
       "      <td>doc-en-798457</td>\n",
       "      <td>['doc-en-810925', 'doc-en-634020', 'doc-en-143...</td>\n",
       "      <td>en</td>\n",
       "    </tr>\n",
       "    <tr>\n",
       "      <th>1</th>\n",
       "      <td>q-en-16636</td>\n",
       "      <td>What is the medical use of iloperidone?</td>\n",
       "      <td>doc-en-121692</td>\n",
       "      <td>['doc-en-177976', 'doc-en-700330', 'doc-en-567...</td>\n",
       "      <td>en</td>\n",
       "    </tr>\n",
       "    <tr>\n",
       "      <th>2</th>\n",
       "      <td>q-en-282671</td>\n",
       "      <td>Who was the provisional administrator in 1940?</td>\n",
       "      <td>doc-en-750259</td>\n",
       "      <td>['doc-en-805362', 'doc-en-413387', 'doc-en-827...</td>\n",
       "      <td>en</td>\n",
       "    </tr>\n",
       "    <tr>\n",
       "      <th>3</th>\n",
       "      <td>q-en-216614</td>\n",
       "      <td>What was the critical reception of the film se...</td>\n",
       "      <td>doc-en-703883</td>\n",
       "      <td>['doc-en-685958', 'doc-en-84060', 'doc-en-2046...</td>\n",
       "      <td>en</td>\n",
       "    </tr>\n",
       "    <tr>\n",
       "      <th>4</th>\n",
       "      <td>q-en-156120</td>\n",
       "      <td>What was the main Spanish record of the year i...</td>\n",
       "      <td>doc-en-648393</td>\n",
       "      <td>['doc-en-4307', 'doc-en-761696', 'doc-en-79426...</td>\n",
       "      <td>en</td>\n",
       "    </tr>\n",
       "  </tbody>\n",
       "</table>\n",
       "</div>"
      ],
      "text/plain": [
       "      query_id                                              query  \\\n",
       "0  q-en-425512  What is the connection between AAA and Lucha U...   \n",
       "1   q-en-16636            What is the medical use of iloperidone?   \n",
       "2  q-en-282671     Who was the provisional administrator in 1940?   \n",
       "3  q-en-216614  What was the critical reception of the film se...   \n",
       "4  q-en-156120  What was the main Spanish record of the year i...   \n",
       "\n",
       "   positive_docs                                      negative_docs lang  \n",
       "0  doc-en-798457  ['doc-en-810925', 'doc-en-634020', 'doc-en-143...   en  \n",
       "1  doc-en-121692  ['doc-en-177976', 'doc-en-700330', 'doc-en-567...   en  \n",
       "2  doc-en-750259  ['doc-en-805362', 'doc-en-413387', 'doc-en-827...   en  \n",
       "3  doc-en-703883  ['doc-en-685958', 'doc-en-84060', 'doc-en-2046...   en  \n",
       "4  doc-en-648393  ['doc-en-4307', 'doc-en-761696', 'doc-en-79426...   en  "
      ]
     },
     "execution_count": 14,
     "metadata": {},
     "output_type": "execute_result"
    }
   ],
   "source": [
    "train = pd.read_csv('./Data/train.csv')\n",
    "train.head()"
   ]
  },
  {
   "cell_type": "code",
   "execution_count": 15,
   "metadata": {},
   "outputs": [
    {
     "data": {
      "text/html": [
       "<div>\n",
       "<style scoped>\n",
       "    .dataframe tbody tr th:only-of-type {\n",
       "        vertical-align: middle;\n",
       "    }\n",
       "\n",
       "    .dataframe tbody tr th {\n",
       "        vertical-align: top;\n",
       "    }\n",
       "\n",
       "    .dataframe thead th {\n",
       "        text-align: right;\n",
       "    }\n",
       "</style>\n",
       "<table border=\"1\" class=\"dataframe\">\n",
       "  <thead>\n",
       "    <tr style=\"text-align: right;\">\n",
       "      <th></th>\n",
       "      <th>id</th>\n",
       "      <th>docids</th>\n",
       "    </tr>\n",
       "  </thead>\n",
       "  <tbody>\n",
       "    <tr>\n",
       "      <th>0</th>\n",
       "      <td>0</td>\n",
       "      <td>['doc-en-0', 'doc-de-14895', 'doc-en-829265', ...</td>\n",
       "    </tr>\n",
       "    <tr>\n",
       "      <th>1</th>\n",
       "      <td>1</td>\n",
       "      <td>['doc-en-447132', 'doc-en-773190', 'doc-en-504...</td>\n",
       "    </tr>\n",
       "    <tr>\n",
       "      <th>2</th>\n",
       "      <td>2</td>\n",
       "      <td>['doc-en-32', 'doc-en-414951', 'doc-en-564939'...</td>\n",
       "    </tr>\n",
       "    <tr>\n",
       "      <th>3</th>\n",
       "      <td>3</td>\n",
       "      <td>['doc-en-822169', 'doc-en-441656', 'doc-en-814...</td>\n",
       "    </tr>\n",
       "    <tr>\n",
       "      <th>4</th>\n",
       "      <td>4</td>\n",
       "      <td>['doc-en-5056', 'doc-en-772925', 'doc-en-72232...</td>\n",
       "    </tr>\n",
       "  </tbody>\n",
       "</table>\n",
       "</div>"
      ],
      "text/plain": [
       "   id                                             docids\n",
       "0   0  ['doc-en-0', 'doc-de-14895', 'doc-en-829265', ...\n",
       "1   1  ['doc-en-447132', 'doc-en-773190', 'doc-en-504...\n",
       "2   2  ['doc-en-32', 'doc-en-414951', 'doc-en-564939'...\n",
       "3   3  ['doc-en-822169', 'doc-en-441656', 'doc-en-814...\n",
       "4   4  ['doc-en-5056', 'doc-en-772925', 'doc-en-72232..."
      ]
     },
     "execution_count": 15,
     "metadata": {},
     "output_type": "execute_result"
    }
   ],
   "source": [
    "sample_submission = pd.read_csv('./Data/sample_submission.csv')\n",
    "sample_submission.head()"
   ]
  },
  {
   "cell_type": "code",
   "execution_count": 6,
   "metadata": {},
   "outputs": [],
   "source": [
    "with open(\"./Data/corpus.json/corpus.json\", \"r\") as f:\n",
    "    documents = json.load(f)"
   ]
  },
  {
   "cell_type": "code",
   "execution_count": 10,
   "metadata": {},
   "outputs": [
    {
     "name": "stderr",
     "output_type": "stream",
     "text": [
      "Python(77865) MallocStackLogging: can't turn off malloc stack logging because it was not enabled.\n"
     ]
    }
   ],
   "source": [
    "tokenizer = BertTokenizer.from_pretrained('bert-base-uncased')\n",
    "model = BertModel.from_pretrained('bert-base-uncased')"
   ]
  },
  {
   "cell_type": "code",
   "execution_count": 10,
   "metadata": {},
   "outputs": [],
   "source": [
    "def embed_documents(docs):\n",
    "    embeddings = {}\n",
    "    \n",
    "    for doc in tqdm(docs, desc=\"Embedding documents\"):\n",
    "        # Tokenisation du texte\n",
    "        doc_id = doc[\"docid\"]\n",
    "        text = doc[\"text\"]\n",
    "        inputs = tokenizer(text, return_tensors=\"pt\", padding=True, truncation=True, max_length=512)\n",
    "        \n",
    "        # Propagation à travers BERT\n",
    "        with torch.no_grad():\n",
    "            outputs = model(**inputs)\n",
    "        \n",
    "        # Extraire les embeddings du token [CLS] (représentation du document)\n",
    "        cls_embedding = outputs.last_hidden_state[:, 0, :].squeeze()\n",
    "        \n",
    "        # Stocker l'embedding\n",
    "        embeddings[doc_id] = cls_embedding\n",
    "    \n",
    "    return embeddings"
   ]
  },
  {
   "cell_type": "code",
   "execution_count": 11,
   "metadata": {},
   "outputs": [
    {
     "ename": "NameError",
     "evalue": "name 'documents' is not defined",
     "output_type": "error",
     "traceback": [
      "\u001b[0;31m---------------------------------------------------------------------------\u001b[0m",
      "\u001b[0;31mNameError\u001b[0m                                 Traceback (most recent call last)",
      "Cell \u001b[0;32mIn[11], line 1\u001b[0m\n\u001b[0;32m----> 1\u001b[0m doc_ar \u001b[38;5;241m=\u001b[39m [doc \u001b[38;5;28;01mfor\u001b[39;00m doc \u001b[38;5;129;01min\u001b[39;00m \u001b[43mdocuments\u001b[49m \u001b[38;5;28;01mif\u001b[39;00m doc[\u001b[38;5;124m'\u001b[39m\u001b[38;5;124mlang\u001b[39m\u001b[38;5;124m'\u001b[39m] \u001b[38;5;241m==\u001b[39m \u001b[38;5;124m'\u001b[39m\u001b[38;5;124mar\u001b[39m\u001b[38;5;124m'\u001b[39m]\n\u001b[1;32m      2\u001b[0m \u001b[38;5;28mprint\u001b[39m(\u001b[38;5;28mlen\u001b[39m(doc_ar))\n\u001b[1;32m      3\u001b[0m \u001b[38;5;28mprint\u001b[39m(\u001b[38;5;28mlen\u001b[39m(documents))\n",
      "\u001b[0;31mNameError\u001b[0m: name 'documents' is not defined"
     ]
    }
   ],
   "source": [
    "doc_ar = [doc for doc in documents if doc['lang'] == 'ar']\n",
    "print(len(doc_ar))\n",
    "print(len(documents))"
   ]
  },
  {
   "cell_type": "code",
   "execution_count": 31,
   "metadata": {},
   "outputs": [],
   "source": [
    "doc_embeddings = embed_documents(documents[:20])"
   ]
  },
  {
   "cell_type": "code",
   "execution_count": 32,
   "metadata": {},
   "outputs": [],
   "source": [
    "def retrieve_documents(query, embeddings, top_k=10):\n",
    "    # Tokenisation de la requête\n",
    "    inputs = tokenizer(query, return_tensors=\"pt\", padding=True, truncation=True, max_length=512)\n",
    "    \n",
    "    # Propagation à travers BERT\n",
    "    with torch.no_grad():\n",
    "        outputs = model(**inputs)\n",
    "    \n",
    "    # Extraire l'embedding du token [CLS] (représentation de la requête)\n",
    "    query_embedding = outputs.last_hidden_state[:, 0, :].squeeze()\n",
    "    \n",
    "    # Calculer les similarités cosinus entre la requête et les embeddings des documents\n",
    "    similarities = {}\n",
    "    for doc_id, doc_embedding in embeddings.items():\n",
    "        similarity = cosine_similarity(query_embedding.reshape(1, -1), doc_embedding.reshape(1, -1)).item()\n",
    "        similarities[doc_id] = similarity\n",
    "    \n",
    "    # Trier les documents par similarité et récupérer les top_k\n",
    "    results = sorted(similarities.items(), key=lambda x: x[1], reverse=True)[:top_k]\n",
    "    \n",
    "    return results"
   ]
  },
  {
   "cell_type": "code",
   "execution_count": 33,
   "metadata": {},
   "outputs": [
    {
     "data": {
      "text/plain": [
       "[('doc-en-8773', 0.6215211153030396),\n",
       " ('doc-en-16038', 0.6109321117401123),\n",
       " ('doc-en-14104', 0.5731789469718933),\n",
       " ('doc-en-4639', 0.5707907676696777),\n",
       " ('doc-en-3128', 0.564104437828064),\n",
       " ('doc-en-16475', 0.5610914826393127),\n",
       " ('doc-en-5745', 0.5493555665016174),\n",
       " ('doc-en-9696', 0.5429341793060303),\n",
       " ('doc-en-3366', 0.5365767478942871),\n",
       " ('doc-en-4033', 0.523850679397583)]"
      ]
     },
     "execution_count": 33,
     "metadata": {},
     "output_type": "execute_result"
    }
   ],
   "source": [
    "retrieve_documents(\"How to cook a cake\", doc_embeddings)"
   ]
  }
 ],
 "metadata": {
  "kernelspec": {
   "display_name": ".venv",
   "language": "python",
   "name": "python3"
  },
  "language_info": {
   "codemirror_mode": {
    "name": "ipython",
    "version": 3
   },
   "file_extension": ".py",
   "mimetype": "text/x-python",
   "name": "python",
   "nbconvert_exporter": "python",
   "pygments_lexer": "ipython3",
   "version": "3.9.6"
  }
 },
 "nbformat": 4,
 "nbformat_minor": 2
}
