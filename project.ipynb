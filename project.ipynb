{
 "cells": [
  {
   "cell_type": "code",
   "execution_count": 9,
   "metadata": {},
   "outputs": [],
   "source": [
    "import pandas as pd\n",
    "import json\n",
    "import random\n",
    "import torch\n",
    "from transformers import BertTokenizer, BertModel\n",
    "from sklearn.metrics.pairwise import cosine_similarity\n",
    "from tqdm import tqdm"
   ]
  },
  {
   "cell_type": "code",
   "execution_count": null,
   "metadata": {},
   "outputs": [],
   "source": [
    "dev = pd.read_csv('./Data/dev.csv')\n",
    "dev.head()"
   ]
  },
  {
   "cell_type": "code",
   "execution_count": null,
   "metadata": {},
   "outputs": [],
   "source": [
    "test = pd.read_csv('./Data/test.csv')\n",
    "test.head()"
   ]
  },
  {
   "cell_type": "code",
   "execution_count": null,
   "metadata": {},
   "outputs": [],
   "source": [
    "train = pd.read_csv('./Data/train.csv')\n",
    "train.head()"
   ]
  },
  {
   "cell_type": "code",
   "execution_count": null,
   "metadata": {},
   "outputs": [],
   "source": [
    "sample_submission = pd.read_csv('./Data/sample_submission.csv')\n",
    "sample_submission.head()"
   ]
  },
  {
   "cell_type": "code",
   "execution_count": 6,
   "metadata": {},
   "outputs": [],
   "source": [
    "with open(\"./Data/corpus.json/corpus.json\", \"r\") as f:\n",
    "    documents = json.load(f)"
   ]
  },
  {
   "cell_type": "code",
   "execution_count": null,
   "metadata": {},
   "outputs": [],
   "source": [
    "tokenizer = BertTokenizer.from_pretrained('bert-base-uncased')\n",
    "model = BertModel.from_pretrained('bert-base-uncased')"
   ]
  },
  {
   "cell_type": "code",
   "execution_count": 10,
   "metadata": {},
   "outputs": [],
   "source": [
    "def embed_documents(docs, batch_size=32):\n",
    "    embeddings = {}\n",
    "    for i in tqdm(range(0, len(docs), batch_size), desc=\"Embedding documents\"):\n",
    "        batch_docs = docs[i:i+batch_size]\n",
    "        batch_texts = [doc[\"text\"] for doc in batch_docs]\n",
    "        doc_ids = [doc[\"docid\"] for doc in batch_docs]\n",
    "        \n",
    "        # Tokenize the texts\n",
    "        inputs = tokenizer(batch_texts, return_tensors=\"pt\", padding=True, truncation=True, max_length=512).to(device)\n",
    "        \n",
    "        # Use BERT\n",
    "        with torch.no_grad():\n",
    "            outputs = model(**inputs)\n",
    "        \n",
    "        cls_embeddings = outputs.last_hidden_state[:, 0, :].squeeze().cpu()\n",
    "        \n",
    "        for doc_id, cls_embedding in zip(doc_ids, cls_embeddings):\n",
    "            embeddings[doc_id] = cls_embedding\n",
    "\n",
    "    return embeddings\n"
   ]
  },
  {
   "cell_type": "code",
   "execution_count": 31,
   "metadata": {},
   "outputs": [],
   "source": [
    "doc_embeddings = embed_documents(documents)"
   ]
  },
  {
   "cell_type": "code",
   "execution_count": 32,
   "metadata": {},
   "outputs": [],
   "source": [
    "def retrieve_documents(query, embeddings, top_k=10):\n",
    "    # Tokenize the query\n",
    "    inputs = tokenizer(query, return_tensors=\"pt\", padding=True, truncation=True, max_length=512).to(device)\n",
    "    \n",
    "    # Use BERT\n",
    "    with torch.no_grad():\n",
    "        outputs = model(**inputs)\n",
    "    \n",
    "    query_embedding = outputs.last_hidden_state[:, 0, :].squeeze().cpu()\n",
    "    \n",
    "    doc_embeddings = torch.stack([emb for emb in embeddings.values()])\n",
    "    doc_ids = list(embeddings.keys())\n",
    "    \n",
    "    # Compute similarities\n",
    "    query_embedding_norm = query_embedding / query_embedding.norm(dim=0, keepdim=True)\n",
    "    doc_embeddings_norm = doc_embeddings / doc_embeddings.norm(dim=1, keepdim=True)\n",
    "    \n",
    "    similarities = torch.matmul(doc_embeddings_norm, query_embedding_norm)\n",
    "    \n",
    "    # Retrieve top-k most similar documents\n",
    "    top_k_indices = similarities.argsort(descending=True)[:top_k]\n",
    "    results = [(doc_ids[i], similarities[i].item()) for i in top_k_indices]\n",
    "    \n",
    "    return results"
   ]
  },
  {
   "cell_type": "code",
   "execution_count": null,
   "metadata": {},
   "outputs": [],
   "source": [
    "sample_data = []\n",
    "for i, row in tqdm(test.iterrows(), total=len(test), desc=\"Retrieving documents\"):\n",
    "    query = row[\"query\"]\n",
    "    results = retrieve_documents(query, doc_embeddings, top_k=10)\n",
    "    doc_ids = [doc_id for doc_id, _ in results]\n",
    "    sample_data.append({\"id\": row[\"id\"], \"docids\": doc_ids})\n",
    "\n",
    "sample = pd.DataFrame(sample_data)\n",
    "sample.to_csv(\"sample.csv\", index=False)"
   ]
  }
 ],
 "metadata": {
  "kernelspec": {
   "display_name": ".venv",
   "language": "python",
   "name": "python3"
  },
  "language_info": {
   "codemirror_mode": {
    "name": "ipython",
    "version": 3
   },
   "file_extension": ".py",
   "mimetype": "text/x-python",
   "name": "python",
   "nbconvert_exporter": "python",
   "pygments_lexer": "ipython3",
   "version": "3.9.6"
  }
 },
 "nbformat": 4,
 "nbformat_minor": 2
}
